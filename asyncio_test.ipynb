{
 "cells": [
  {
   "cell_type": "code",
   "execution_count": 1,
   "metadata": {
    "collapsed": false
   },
   "outputs": [
    {
     "name": "stdout",
     "output_type": "stream",
     "text": [
      "hello world (<_MainThread(MainThread, started 140737182057408)>)\n",
      "hello world (<_MainThread(MainThread, started 140737182057408)>)\n",
      "hello again (<_MainThread(MainThread, started 140737182057408)>)\n",
      "hello again (<_MainThread(MainThread, started 140737182057408)>)\n"
     ]
    }
   ],
   "source": [
    "import asyncio\n",
    "import threading\n",
    "\n",
    "@asyncio.coroutine\n",
    "def hello():\n",
    "    print('hello world (%s)'%threading.currentThread())\n",
    "    r = yield from asyncio.sleep(1)\n",
    "    print('hello again (%s)'%threading.currentThread())\n",
    "    \n",
    "\n",
    "loop=asyncio.get_event_loop()\n",
    "task=[hello(), hello()]\n",
    "\n",
    "loop.run_until_complete(asyncio.wait(task))\n",
    "\n",
    "loop.close()"
   ]
  },
  {
   "cell_type": "code",
   "execution_count": null,
   "metadata": {
    "collapsed": true
   },
   "outputs": [],
   "source": []
  }
 ],
 "metadata": {
  "kernelspec": {
   "display_name": "Python [py3.5]",
   "language": "python",
   "name": "Python [py3.5]"
  },
  "language_info": {
   "codemirror_mode": {
    "name": "ipython",
    "version": 3
   },
   "file_extension": ".py",
   "mimetype": "text/x-python",
   "name": "python",
   "nbconvert_exporter": "python",
   "pygments_lexer": "ipython3",
   "version": "3.5.2"
  }
 },
 "nbformat": 4,
 "nbformat_minor": 0
}
