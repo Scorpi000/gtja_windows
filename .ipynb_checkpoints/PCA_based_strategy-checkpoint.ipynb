{
 "cells": [
  {
   "cell_type": "code",
   "execution_count": 1,
   "metadata": {
    "collapsed": false
   },
   "outputs": [
    {
     "name": "stderr",
     "output_type": "stream",
     "text": [
      "/Users/liyuefan/anaconda2/lib/python2.7/site-packages/matplotlib/font_manager.py:273: UserWarning: Matplotlib is building the font cache using fc-list. This may take a moment.\n",
      "  warnings.warn('Matplotlib is building the font cache using fc-list. This may take a moment.')\n"
     ]
    }
   ],
   "source": [
    "import numpy as np\n",
    "import pandas as pd\n",
    "import matplotlib.pyplot as plt\n",
    "import datetime\n",
    "import calendar\n",
    "from sklearn.decomposition import PCA as PCA\n",
    "from sklearn.linear_model import LinearRegression\n",
    "from numba import jit\n",
    "from HMM_Cal import execute\n",
    "%matplotlib inline\n"
   ]
  },
  {
   "cell_type": "code",
   "execution_count": 2,
   "metadata": {
    "collapsed": false
   },
   "outputs": [],
   "source": [
    "data=pd.read_csv('/Users/liyuefan/Documents/gtja/GSCI_ER_Indices.csv',header=None)"
   ]
  },
  {
   "cell_type": "code",
   "execution_count": 3,
   "metadata": {
    "collapsed": false
   },
   "outputs": [],
   "source": [
    "index_list=data.iloc[0,:].dropna()\n",
    "index_list=map(lambda x: x.split(' ')[0],index_list)"
   ]
  },
  {
   "cell_type": "code",
   "execution_count": 4,
   "metadata": {
    "collapsed": false
   },
   "outputs": [],
   "source": [
    "\n",
    "\n",
    "ER_dict={'SPGCCCP':'Cocoa','SPGCCNP':'Corn','SPGCCTP':'Cotton','SPGCKCP':'Coffee',\n",
    "        'SPGCSBP':'Sugar','SPGCKWP':'Kansas wheat','SPGCWHP':'Wheat',\n",
    "         'SPGCSOP':'Soybeans','SPGCLCP':'Live cattle','SPGCLHP':'Lean hogs','SPGCFCP':'Feeder cattle',\n",
    "        'SPGCIAP':'Aluminium','SPGCICP':'Copper','SPGCIKP':'Nickel','SPGCILP':'Lead','SPGCIZP':'Zinc',\n",
    "        'SPGCBRP':'Brent','SPGCCLP':'Crude oil','SPGCGOP':'Gasoil','SPGCHOP':'Heating oil',\n",
    "        'SPGCHUP':'Gasoline','SPGCNGP':'Natural Gas','SPGCGCP':'Gold','SPGCSIP':'Silver'}\n",
    "\n",
    "def name_kind(x):\n",
    "    return ER_dict[x]"
   ]
  },
  {
   "cell_type": "code",
   "execution_count": 5,
   "metadata": {
    "collapsed": true
   },
   "outputs": [],
   "source": [
    "def plot_loading(r_all):\n",
    "    for i in range(r_all.shape[1]):\n",
    "        plt.figure(figsize=(3,9))\n",
    "        plt.subplot(r_all.shape[1],1,i+1)\n",
    "        \n",
    "        temp=r_all[[r_all.columns[i]]].sort(r_all.columns[i])\n",
    "        xticks=np.arange(len(temp))\n",
    "        xlabels=list(temp.index)\n",
    "        plt.barh(xticks,temp[r_all.columns[i]],align='center',color='yellow',alpha=0.8)\n",
    "        plt.title('loadings of PC%s'%(i+1))\n",
    "        plt.yticks(xticks,xlabels,size='medium',rotation=0);\n",
    "        plt.autoscale()"
   ]
  },
  {
   "cell_type": "code",
   "execution_count": 6,
   "metadata": {
    "collapsed": false
   },
   "outputs": [],
   "source": [
    "data_for_PCA=pd.DataFrame()\n",
    "for i in range(data.shape[1]):\n",
    "    if i%3==1:\n",
    "        temp=data.iloc[2:,[i-1,i]]\n",
    "        temp=temp.rename(columns={i-1:'update_date',i:'%s'%index_list[i/3]})\n",
    "        temp['update_date']=pd.to_datetime(temp['update_date'])\n",
    "        temp.index=[temp['update_date']]\n",
    "        temp[index_list[i/3]]=temp[index_list[i/3]].apply(float)\n",
    "        temp=temp.drop(['update_date'],axis=1)\n",
    "        data_for_PCA=pd.concat([data_for_PCA,temp],axis=1,join='inner')\n",
    "    else:\n",
    "        pass\n",
    "\n",
    "y=data_for_PCA['SPGSCI'].apply(float)\n",
    "ind_var=data_for_PCA.copy()\n",
    "ind_var_diff=pd.DataFrame()\n",
    "for col in ind_var.columns:\n",
    "    ind_var[col]=ind_var[col].apply(float)\n",
    "    ind_var_diff[col]=np.diff(np.log(ind_var[col]))\n",
    "ind_var_diff['update_date']=ind_var.index[1:]\n",
    "ind_var_diff.index=[ind_var_diff['update_date']]\n",
    "y=ind_var_diff[['SPGSCI']]\n",
    "ind_var_diff.drop(['update_date','SPGSCI'],axis=1,inplace=True)\n",
    "\n"
   ]
  },
  {
   "cell_type": "code",
   "execution_count": 7,
   "metadata": {
    "collapsed": false,
    "scrolled": true
   },
   "outputs": [],
   "source": [
    "def position(data_for_PCA):\n",
    "    data_for_PCA['ma10']=pd.rolling_mean(data_for_PCA['SPGSCI'],10)\n",
    "    data_for_PCA['ma20']=pd.rolling_mean(data_for_PCA['SPGSCI'],20)\n",
    "    data_for_PCA['ma60']=pd.rolling_mean(data_for_PCA['SPGSCI'],60)\n",
    "    data_for_PCA['ma100']=pd.rolling_mean(data_for_PCA['SPGSCI'],100)\n",
    "    data_for_PCA['ma200']=pd.rolling_mean(data_for_PCA['SPGSCI'],200)\n",
    "\n",
    "    data_for_PCA['ma_diff_1']=data_for_PCA['SPGSCI']-data_for_PCA['ma10']\n",
    "    data_for_PCA['ma_diff_2']=data_for_PCA['SPGSCI']-data_for_PCA['ma20']\n",
    "    data_for_PCA['ma_diff_3']=data_for_PCA['SPGSCI']-data_for_PCA['ma60']\n",
    "    data_for_PCA['ma_diff_4']=data_for_PCA['SPGSCI']-data_for_PCA['ma100']\n",
    "    data_for_PCA['ma_diff_5']=data_for_PCA['SPGSCI']-data_for_PCA['ma200']\n",
    "    \n",
    "    def fx(x):\n",
    "        if x>0:\n",
    "            return 0.2\n",
    "        elif x<0:\n",
    "            return -0.2\n",
    "        else:\n",
    "            return 0\n",
    "    data_for_PCA['s_1']=data_for_PCA['ma_diff_1'].apply(fx)\n",
    "    data_for_PCA['s_2']=data_for_PCA['ma_diff_2'].apply(fx)\n",
    "    data_for_PCA['s_3']=data_for_PCA['ma_diff_3'].apply(fx)\n",
    "    data_for_PCA['s_4']=data_for_PCA['ma_diff_4'].apply(fx)\n",
    "    data_for_PCA['s_5']=data_for_PCA['ma_diff_5'].apply(fx)\n",
    "    data_for_PCA['position']=data_for_PCA['s_1']+data_for_PCA['s_2']\\\n",
    "                                +data_for_PCA['s_3']+data_for_PCA['s_4']+data_for_PCA['s_5']\n",
    "    return data_for_PCA"
   ]
  },
  {
   "cell_type": "code",
   "execution_count": 8,
   "metadata": {
    "collapsed": true
   },
   "outputs": [],
   "source": [
    "# data_for_PCA['ma30']=pd.rolling_mean(data_for_PCA['SPGSCI'],5)\n",
    "# data_for_PCA['ma60']=pd.rolling_mean(data_for_PCA['SPGSCI'],10)\n",
    "# data_for_PCA['position']=data_for_PCA['ma30']-data_for_PCA['ma60']\n",
    "# data_for_PCA['position']=data_for_PCA['position'].apply(lambda x:1 if x>0 else -1)"
   ]
  },
  {
   "cell_type": "code",
   "execution_count": 9,
   "metadata": {
    "collapsed": false,
    "scrolled": true
   },
   "outputs": [],
   "source": [
    "data_for_PCA=position(data_for_PCA)\n",
    "ma_diff=[np.nan]\n",
    "ma_diff.extend(list(data_for_PCA['position'])[:-1])\n",
    "data_for_PCA['position']=ma_diff"
   ]
  },
  {
   "cell_type": "code",
   "execution_count": 10,
   "metadata": {
    "collapsed": false
   },
   "outputs": [],
   "source": [
    "\n",
    "def pca_weight(ind_var_diff):\n",
    "    X=ind_var_diff.as_matrix()\n",
    "\n",
    "    pca=PCA(n_components=10,whiten=True)\n",
    "\n",
    "    pca.fit(X)\n",
    "\n",
    "    X=pca.transform(X)\n",
    "\n",
    "    r=pd.DataFrame(pca.components_[0])\n",
    "    r['name']=map(name_kind,ind_var_diff.columns)\n",
    "    r.index=[r['name']]\n",
    "\n",
    "    r.drop('name',axis=1,inplace=True)\n",
    "    \n",
    "\n",
    "    ##定义一个函数用来画各个主成分的构成loading\n",
    "\n",
    "\n",
    "    # plot_loading(r)\n",
    "\n",
    "    # 计算loading\n",
    "    eigenvalues=pca.explained_variance_ratio_\n",
    "    sqrt_eigen=np.sqrt(pca.explained_variance_ratio_)\n",
    "#     loadings=pd.DataFrame()\n",
    "#     for i in range(len(sqrt_eigen)):\n",
    "#         loadings['PC%s'%(i+1)]=r[i]**2\n",
    "    \n",
    "#     loadings['all_weights']=loadings.sum(axis=1)\n",
    "    weights=r[0]\n",
    "    \n",
    "\n",
    "\n",
    "    weights=weights/sum(weights)\n",
    "    return list(weights),eigenvalues[0]\n"
   ]
  },
  {
   "cell_type": "code",
   "execution_count": null,
   "metadata": {
    "collapsed": false
   },
   "outputs": [],
   "source": [
    "\n",
    "##输入的参数all_data需要时间戳格式的索引(index)列\n",
    "def loop_pca(all_data):\n",
    "    total=[]\n",
    "    pca_all=[]\n",
    "    date_start=pd.to_datetime(min(all_data.index))\n",
    "    date_start=date_start+np.timedelta64(6,'M')\n",
    "    date_end=pd.to_datetime(max(all_data.index))\n",
    "    for day in pd.date_range(date_start,date_end):\n",
    "#         if calendar.weekday(day.year,day.month,day.day)==1:\n",
    "\n",
    "        date_f=day-np.timedelta64(6,'M')\n",
    "        date_t=day\n",
    "        date_t=date_t-np.timedelta64(1,'D')\n",
    "\n",
    "        ind_var_diff=all_data[date_f:date_t]\n",
    "\n",
    "        w,pca=pca_weight(ind_var_diff)\n",
    "        pca_all.append([pca,day])\n",
    "\n",
    "        if day.month in [1,4,7,10] and day.day==1:\n",
    "\n",
    "            \n",
    "            w.append(day)\n",
    "            total.append(w)  \n",
    "        else:\n",
    "            w=[np.nan for x in np.arange(all_data.shape[1])]\n",
    "            w.append(day)\n",
    "#             pca_all.append([np.nan,day])\n",
    "            total.append(w)\n",
    "    col_list=list(all_data.columns)\n",
    "    col_list.append('update_date')\n",
    "    all_w=pd.DataFrame(total,columns=col_list)\n",
    "    all_w['update_date']=pd.to_datetime(all_w['update_date'])\n",
    "    all_w=all_w.fillna(method='ffill')\n",
    "    all_w=all_w.dropna(axis=0)\n",
    "    pca_all=pd.DataFrame(pca_all,columns=['dir_strength','update_date'])\n",
    "    pca_all['update_date']=pd.to_datetime(pca_all['update_date'])\n",
    "    pca_all['update_date']=pca_all['update_date'].apply(lambda x: x.date())\n",
    "    pca_all.index=[pca_all['update_date']]\n",
    "    pca_all.drop(['update_date'],axis=1,inplace=True)\n",
    "    return all_w,pca_all"
   ]
  },
  {
   "cell_type": "code",
   "execution_count": null,
   "metadata": {
    "collapsed": false,
    "scrolled": true
   },
   "outputs": [],
   "source": [
    "st=datetime.datetime.now()\n",
    "all_w,pca_all=loop_pca(ind_var_diff)\n",
    "ed=datetime.datetime.now()\n",
    "print ed-st"
   ]
  },
  {
   "cell_type": "code",
   "execution_count": null,
   "metadata": {
    "collapsed": false
   },
   "outputs": [],
   "source": [
    "all_w['update_date']=all_w['update_date'].apply(lambda x:pd.to_datetime(x.date()))\n",
    "all_w.index=[all_w['update_date']]\n",
    "all_w.drop('update_date',axis=1,inplace=True)"
   ]
  },
  {
   "cell_type": "code",
   "execution_count": null,
   "metadata": {
    "collapsed": false,
    "scrolled": true
   },
   "outputs": [],
   "source": [
    "return_mat=ind_var_diff\n",
    "return_mat['temp']=1\n",
    "all_w=pd.concat([all_w,return_mat[['temp']]],axis=1,join='inner')\n",
    "all_w.drop('temp',axis=1,inplace=True)\n",
    "return_mat.drop('temp',axis=1,inplace=True)"
   ]
  },
  {
   "cell_type": "code",
   "execution_count": null,
   "metadata": {
    "collapsed": false
   },
   "outputs": [],
   "source": [
    "return_mat=ind_var_diff[np.min(all_w.index):np.max(all_w.index)]"
   ]
  },
  {
   "cell_type": "code",
   "execution_count": null,
   "metadata": {
    "collapsed": false
   },
   "outputs": [],
   "source": [
    "all_w_mat=all_w.as_matrix()\n",
    "return_mat_mat=return_mat.as_matrix()\n"
   ]
  },
  {
   "cell_type": "code",
   "execution_count": null,
   "metadata": {
    "collapsed": false
   },
   "outputs": [],
   "source": [
    "cal_mat=np.dot(return_mat_mat,all_w_mat.T)"
   ]
  },
  {
   "cell_type": "code",
   "execution_count": null,
   "metadata": {
    "collapsed": false
   },
   "outputs": [],
   "source": [
    "return_series=cal_mat.diagonal()"
   ]
  },
  {
   "cell_type": "code",
   "execution_count": null,
   "metadata": {
    "collapsed": false
   },
   "outputs": [],
   "source": [
    "f=pd.DataFrame()\n",
    "f['update_date']=all_w.index\n",
    "f['beta_return']=return_series\n",
    "f.index=[f['update_date']]\n",
    "f=pd.concat([f,pca_all[['dir_strength']]],axis=1,join='inner')\n",
    "f['dir_strength']=f['dir_strength'].fillna(method='ffill')\n",
    "f['dir_strength_threshold']=f['dir_strength'].rolling(60).quantile(0.25)\n",
    "dir_strength_threshold=[np.nan]\n",
    "dir_strength_threshold.extend(f['dir_strength_threshold'][:-1])\n",
    "f['dir_strength_threshold']=dir_strength_threshold\n",
    "f['dir_strength']=f['dir_strength']-f['dir_strength_threshold']\n",
    "f['dir_strength']=f['dir_strength'].apply(lambda x: 1 if x>0 else 0)\n",
    "f.drop('update_date',axis=1,inplace=True)\n",
    "f=pd.concat([f,y],axis=1,join='inner')\n",
    "f['diff_return']=f['SPGSCI']-f['beta_return']\n"
   ]
  },
  {
   "cell_type": "code",
   "execution_count": null,
   "metadata": {
    "collapsed": false
   },
   "outputs": [],
   "source": [
    "f=pd.concat([f,data_for_PCA[['position']]],axis=1,join='outer')\n",
    "f['position']=f['position'].apply(lambda x:1 if x>0 else -1)"
   ]
  },
  {
   "cell_type": "code",
   "execution_count": null,
   "metadata": {
    "collapsed": false
   },
   "outputs": [],
   "source": [
    "f=f.dropna(axis=0)\n",
    "f['daily_return']=f['diff_return']*f['position']\n",
    "f['strategy_cum_return']=f['daily_return'].cumsum()\n",
    "plt.figure(figsize=(15,10))\n",
    "plt.plot(f['strategy_cum_return'])"
   ]
  },
  {
   "cell_type": "code",
   "execution_count": null,
   "metadata": {
    "collapsed": false
   },
   "outputs": [],
   "source": [
    "(np.mean(f['daily_return'])*252-0.03)/(np.std(f['daily_return'])*np.sqrt(252))"
   ]
  },
  {
   "cell_type": "code",
   "execution_count": null,
   "metadata": {
    "collapsed": false,
    "scrolled": true
   },
   "outputs": [],
   "source": [
    "position_lag=[np.nan]\n",
    "position_lag.extend(f['position'][:-1])\n",
    "f['position_lag']=position_lag"
   ]
  },
  {
   "cell_type": "code",
   "execution_count": null,
   "metadata": {
    "collapsed": false
   },
   "outputs": [],
   "source": [
    "f['position']=f['position']-f['position_lag']\n",
    "f['position']=f['position'].fillna(2.)\n",
    "f['position']=f['position']/2\n",
    "f['position']=f['position']*f['dir_strength']\n",
    "f['position']=f['position'].apply(lambda x:np.nan if x==0 else x)"
   ]
  },
  {
   "cell_type": "code",
   "execution_count": null,
   "metadata": {
    "collapsed": true
   },
   "outputs": [],
   "source": [
    "f['trade_num']=f['position'].apply(abs)\n",
    "f['trade_num']=f['trade_num'].fillna(0)\n",
    "f['trade_num']=f['trade_num'].cumsum()"
   ]
  },
  {
   "cell_type": "code",
   "execution_count": null,
   "metadata": {
    "collapsed": false
   },
   "outputs": [],
   "source": [
    "f_all=pd.DataFrame()\n",
    "for i,j in f.groupby('trade_num'):\n",
    "    j=j.sort()\n",
    "    j['trade_cum_return']=j['daily_return'].cumsum()\n",
    "    j['trade_cum_max']=j['trade_cum_return'].cummax()\n",
    "    j['cum_threshold']=j['trade_cum_max'].apply(lambda x: 0.75*x if x>=0.02 else -0.02)\n",
    "    stop=[-0.02]\n",
    "    stop.extend(j['cum_threshold'][:-1])\n",
    "    j['cum_threshold']=stop\n",
    "    j['compare']=j['trade_cum_return']-j['cum_threshold']\n",
    "    j['daily_return']=j['daily_return']+np.abs(j['compare'].apply(lambda x: x if x<0 else 0))\n",
    "    j['temp']=j['compare'].apply(lambda x: 0 if x<0 else np.nan)\n",
    "    j['position']=j['position'].fillna(j['temp'])\n",
    "    j['position']=j['position'].fillna(method='ffill')\n",
    "    j['daily_return']=np.abs(j['position'])*j['daily_return']\n",
    "    j['trade_cum_return']=j['daily_return'].cumsum()\n",
    "    j['trade_cum_max']=j['trade_cum_return'].cummax()\n",
    "    j['trade_drawdown']=j['trade_cum_max']-j['trade_cum_return']\n",
    "    f_all=f_all.append(j)"
   ]
  },
  {
   "cell_type": "code",
   "execution_count": null,
   "metadata": {
    "collapsed": false
   },
   "outputs": [],
   "source": [
    "f_all['strategy_cum_return_stoploss']=f_all['daily_return'].cumsum()"
   ]
  },
  {
   "cell_type": "code",
   "execution_count": null,
   "metadata": {
    "collapsed": false,
    "scrolled": true
   },
   "outputs": [],
   "source": [
    "f_all"
   ]
  },
  {
   "cell_type": "code",
   "execution_count": null,
   "metadata": {
    "collapsed": false
   },
   "outputs": [],
   "source": [
    "plt.figure(figsize=(15,10))\n",
    "plt.plot(f_all['strategy_cum_return_stoploss'])"
   ]
  },
  {
   "cell_type": "code",
   "execution_count": null,
   "metadata": {
    "collapsed": false
   },
   "outputs": [],
   "source": [
    "(np.mean(f_all['daily_return'])*252-0.03)/(np.std(f_all['daily_return'])*np.sqrt(252))"
   ]
  },
  {
   "cell_type": "code",
   "execution_count": null,
   "metadata": {
    "collapsed": true
   },
   "outputs": [],
   "source": [
    "f_all['strategy_drawdown']=f_all['strategy_cum_return_stoploss'].cummax()-f_all['strategy_cum_return_stoploss']"
   ]
  },
  {
   "cell_type": "code",
   "execution_count": null,
   "metadata": {
    "collapsed": false
   },
   "outputs": [],
   "source": [
    "f_all['strategy_drawdown'].max()"
   ]
  },
  {
   "cell_type": "code",
   "execution_count": null,
   "metadata": {
    "collapsed": false
   },
   "outputs": [],
   "source": [
    "f['cum_beta']=f['beta_return'].cumsum()\n",
    "f['cum_gsci']=f['SPGSCI'].cumsum()"
   ]
  },
  {
   "cell_type": "code",
   "execution_count": null,
   "metadata": {
    "collapsed": false,
    "scrolled": false
   },
   "outputs": [],
   "source": [
    "plt.figure(figsize=(20,10))\n",
    "plt.plot(f['cum_beta'],label='beta')\n",
    "plt.plot(f['cum_gsci'],label='gsci')\n",
    "plt.legend()"
   ]
  },
  {
   "cell_type": "code",
   "execution_count": null,
   "metadata": {
    "collapsed": false
   },
   "outputs": [],
   "source": [
    "plt.figure(figsize=(15,5))\n",
    "plt.plot(f['cum_beta']-f['cum_gsci'])"
   ]
  },
  {
   "cell_type": "code",
   "execution_count": null,
   "metadata": {
    "collapsed": false,
    "scrolled": false
   },
   "outputs": [],
   "source": [
    "plt.figure(figsize=(30,60))\n",
    "for i in range(len(all_w.columns)):\n",
    "\n",
    "    plt.subplot(len(all_w.columns),1,i+1)\n",
    "    plt.plot(all_w[all_w.columns[i]],label=ER_dict[all_w.columns[i]],lw=4)\n",
    "    \n",
    "    plt.title(ER_dict[all_w.columns[i]])\n",
    "    plt.autoscale()\n",
    "#     plt.legend()"
   ]
  }
 ],
 "metadata": {
  "anaconda-cloud": {},
  "kernelspec": {
   "display_name": "Python [Root]",
   "language": "python",
   "name": "Python [Root]"
  },
  "language_info": {
   "codemirror_mode": {
    "name": "ipython",
    "version": 2
   },
   "file_extension": ".py",
   "mimetype": "text/x-python",
   "name": "python",
   "nbconvert_exporter": "python",
   "pygments_lexer": "ipython2",
   "version": "2.7.12"
  }
 },
 "nbformat": 4,
 "nbformat_minor": 0
}
