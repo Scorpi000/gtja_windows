{
 "cells": [
  {
   "cell_type": "code",
   "execution_count": 25,
   "metadata": {
    "collapsed": true
   },
   "outputs": [],
   "source": [
    "#coding: utf-8\n",
    "\n",
    "import numpy as np\n",
    "import pandas as pd\n",
    "import matplotlib.pyplot as plt\n",
    "%matplotlib inline\n",
    "import warnings\n",
    "warnings.filterwarnings(action='ignore')\n",
    "\n",
    "def execute(category):\n",
    "    df=pd.read_csv('/Users/liyuefan/Documents/gtja/%sFI_0112.csv'%category,encoding='gbk')\n",
    "\n",
    "\n",
    "\n",
    "    df['update_date']=pd.to_datetime(df['update_date'])\n",
    "    df['close_yes']=df['close'].shift(1)\n",
    "\n",
    "    df['ma10']=pd.rolling_mean(df['close_yes'],10)\n",
    "    df['ma20']=pd.rolling_mean(df['close_yes'],20)\n",
    "    df['ma30']=pd.rolling_mean(df['close_yes'],60)\n",
    "    df['ma60']=pd.rolling_mean(df['close_yes'],100)\n",
    "    df['ma100']=pd.rolling_mean(df['close_yes'],200)\n",
    "\n",
    "\n",
    "    df['close_return_yes']=np.log(df['close_yes'])\n",
    "    df['close_return_yes']=df['close_return_yes'].diff()\n",
    "    df['volatility_20']=pd.rolling_std(df['close_return_yes'],20)\n",
    "    df['volatility_60']=pd.rolling_std(df['close_return_yes'],60)\n",
    "    df['volatility_100']=pd.rolling_std(df['close_return_yes'],100)\n",
    "    df['volatility_200']=pd.rolling_std(df['close_return_yes'],200)\n",
    "\n",
    "\n",
    "    def sig(x1,p):\n",
    "        if p<x1:\n",
    "            return -1\n",
    "        elif p>x1:\n",
    "            return 1\n",
    "        else:\n",
    "            return np.nan\n",
    "\n",
    "#     df['stop_ma10']=map(sig,df['ma10'],df['close'])\n",
    "    df['p_ma10']=map(sig,df['ma20'],df['close'])\n",
    "    df['p_ma30']=map(sig,df['ma30'],df['close'])\n",
    "    df['p_ma60']=map(sig,df['ma60'],df['close'])\n",
    "    df['p_ma100']=map(sig,df['ma100'],df['close'])\n",
    "\n",
    "\n",
    "    def dir(x):\n",
    "        if x>0:\n",
    "            return 1\n",
    "        elif x<0:\n",
    "            return -1\n",
    "        else:\n",
    "            return 0\n",
    "    df=df.sort('update_date')\n",
    "\n",
    "\n",
    "    df['p_ma10']=df['p_ma10'].fillna(method='ffill')\n",
    "    df['p_ma30']=df['p_ma30'].fillna(method='ffill')\n",
    "    df['p_ma60']=df['p_ma60'].fillna(method='ffill')\n",
    "    df['p_ma100']=df['p_ma100'].fillna(method='ffill')\n",
    "\n",
    "    df=df.dropna(axis=0)\n",
    "\n",
    "    pos_mat=df.loc[:,['p_ma10','p_ma30','p_ma60','p_ma100','volatility_20','volatility_60','volatility_100','volatility_200']]\n",
    "    pos_mat=pos_mat.as_matrix()\n",
    "\n",
    "    N=pos_mat.shape[0]\n",
    "    p=np.zeros(N)\n",
    "    temp_tag=0\n",
    "    for i in range(N):\n",
    "        if np.isnan(pos_mat[i,3])==True:\n",
    "            p[i]=0\n",
    "        else:\n",
    "            if pos_mat[i,0]>0:\n",
    "                temp_tag=1\n",
    "                dis_20=pos_mat[i,4]/np.mean(pos_mat[:i,4])\n",
    "                dis_60=pos_mat[i,5]/np.mean(pos_mat[:i,5])\n",
    "                dis_100=pos_mat[i,6]/np.mean(pos_mat[:i,6])\n",
    "                dis_200=pos_mat[i,7]/np.mean(pos_mat[:i,7])\n",
    "                p[i]=0.4/dis_20\n",
    "                if pos_mat[i,3]>0:\n",
    "                    p[i]=(0.4/dis_20+0.3/dis_60+0.2/dis_100+0.1/dis_200)\n",
    "                elif pos_mat[i,2]>0:\n",
    "                    p[i]=(0.4/dis_20+0.3/dis_60+0.2/dis_100)\n",
    "                elif pos_mat[i,1]>0:\n",
    "                    p[i]=(0.4/dis_20+0.3/dis_60)\n",
    "\n",
    "            elif pos_mat[i,0]<0:\n",
    "                temp_tag=-1\n",
    "                dis_20=pos_mat[i,4]/np.mean(pos_mat[:i,4])\n",
    "                dis_60=pos_mat[i,5]/np.mean(pos_mat[:i,5])\n",
    "                dis_100=pos_mat[i,6]/np.mean(pos_mat[:i,6])\n",
    "                dis_200=pos_mat[i,7]/np.mean(pos_mat[:i,7])\n",
    "                p[i]=-0.4/dis_20\n",
    "                if pos_mat[i,3]<0:\n",
    "                    p[i]=(-0.4/dis_20-0.3/dis_60-0.2/dis_100-0.1/dis_200)\n",
    "                elif pos_mat[i,2]<0:\n",
    "                    p[i]=(-0.4/dis_20-0.3/dis_60-0.2/dis_100)\n",
    "                elif pos_mat[i,1]<0:\n",
    "                    p[i]=(-0.4/dis_20-0.3/dis_60)\n",
    "\n",
    "            elif temp_tag>0 and pos_mat[i,8]==-1:\n",
    "                temp_tag=0\n",
    "                print 'stop'\n",
    "                p[i]=0\n",
    "            elif temp_tag<0 and pos_mat[i,8]==1:\n",
    "                temp_tag=0\n",
    "                print 'stop'\n",
    "                p[i]=0\n",
    "            else:\n",
    "                p[i]=np.nan\n",
    "\n",
    "\n",
    "\n",
    "    df['position']=p\n",
    "    df['position']=df['position'].fillna(method='ffill')\n",
    "\n",
    "    df['close_return']=np.log(df['close'])\n",
    "    df['close_return']=df['close_return'].diff()\n",
    "\n",
    "    df['position']=df['position'].shift(2)\n",
    "\n",
    "\n",
    "\n",
    "    df['daily_return']=df['position']*df['close_return']\n",
    "    \n",
    "    \n",
    "    close_return=np.array(df['daily_return'])\n",
    "    position=np.array(df['position'])\n",
    "    for i in range(1,len(position)):\n",
    "        if position[i]!=position[i-1]:\n",
    "            close_return[i-1]=close_return[i-1]-1./10000\n",
    "            close_return[i]=close_return[i]-1./10000\n",
    "        else:\n",
    "            pass\n",
    "    df['daily_return']=close_return\n",
    "\n",
    "\n",
    "    \n",
    "\n",
    "    df['cum_return']=df['daily_return'].cumsum()\n",
    "\n",
    "    df.index=[df['update_date']]\n",
    "    return df"
   ]
  },
  {
   "cell_type": "code",
   "execution_count": 26,
   "metadata": {
    "collapsed": true
   },
   "outputs": [],
   "source": [
    "def portfolio(comp1,comp2):\n",
    "    if type(comp1)==str and type(comp2)==str:\n",
    "        comp1=execute(comp1)\n",
    "        comp2=execute(comp2)\n",
    "    else:\n",
    "        comp1=comp1\n",
    "        comp2=comp2\n",
    "    comp1=comp1.rename(columns={'daily_return':'daily_return_1','close_return':'close_return_1'})\n",
    "    comp2=comp2.rename(columns={'daily_return':'daily_return_2','close_return':'close_return_2'})\n",
    "    t=pd.merge(comp1,comp2,on='update_date',how='inner')\n",
    "\n",
    "    tt=t.loc[:,['update_date','daily_return_1','daily_return_2','close_return_1','close_return_2']]\n",
    "\n",
    "    tt['portfolio_return']=0.5*tt['daily_return_1']+0.5*tt['daily_return_2']\n",
    "    tt['close_return']=0.5*tt['close_return_1']+0.5*tt['close_return_2']\n",
    "\n",
    "    tt['port_cum_return']=tt['portfolio_return'].cumsum()\n",
    "    tt['port_cummax']=tt['port_cum_return'].cummax()\n",
    "    tt['port_drawdown']=tt['port_cum_return']-tt['port_cummax']\n",
    "    tt['update_date']=pd.to_datetime(tt['update_date'])\n",
    "    return tt"
   ]
  },
  {
   "cell_type": "code",
   "execution_count": 27,
   "metadata": {
    "collapsed": true
   },
   "outputs": [],
   "source": [
    "def port_port(port1,port2):\n",
    "    port1=port1.drop(['daily_return_1','daily_return_2','close_return_1','close_return_2'],axis=1)\n",
    "    port2=port2.drop(['daily_return_1','daily_return_2','close_return_1','close_return_2'],axis=1)\n",
    "    port1=port1.rename(columns={'portfolio_return':'daily_return_1','close_return':'close_return_1'})\n",
    "    port2=port2.rename(columns={'portfolio_return':'daily_return_2','close_return':'close_return_2'})\n",
    "    \n",
    "    t=pd.merge(port1,port2,on='update_date',how='inner')\n",
    "\n",
    "    tt=t.loc[:,['update_date','daily_return_1','daily_return_2','close_return_1','close_return_2']]\n",
    "    \n",
    "    tt['portfolio_return']=0.5*tt['daily_return_1']+0.5*tt['daily_return_2']\n",
    "    tt['close_return']=0.5*tt['close_return_1']+tt['close_return_2']\n",
    "    \n",
    "    tt['port_cum_return']=tt['portfolio_return'].cumsum()\n",
    "    tt['port_cummax']=tt['port_cum_return'].cummax()\n",
    "    tt['port_drawdown']=tt['port_cum_return']-tt['port_cummax']\n",
    "    return tt"
   ]
  },
  {
   "cell_type": "code",
   "execution_count": 55,
   "metadata": {
    "collapsed": true
   },
   "outputs": [],
   "source": [
    "def comp_portfolio(asset_pool):\n",
    "    import itertools\n",
    "    import scipy as sp\n",
    "    import scipy.stats as stats\n",
    "    all_assets=pd.DataFrame(columns=['update_date'])\n",
    "    for a in asset_pool:\n",
    "        tmp=execute(a)\n",
    "        tmp=tmp.loc[:,['update_date','close_return']]\n",
    "        tmp=tmp.rename(columns={'close_return':'%s'%a})\n",
    "        all_assets=pd.merge(all_assets,tmp,on='update_date',how='outer')\n",
    "    all_assets['update_date']=pd.to_datetime(all_assets['update_date'])\n",
    "    all_assets['year']=all_assets['update_date'].apply(lambda x: x.year)\n",
    "    selected_port_dict={}\n",
    "    for year in pd.unique(all_assets['year']):\n",
    "        tmp=all_assets[all_assets['year']==year]\n",
    "        tmp=tmp.dropna(how='all',axis=1)\n",
    "        col_list=[col for col in tmp.columns if col!='update_date' and col!='year']\n",
    "        corr_dict={}\n",
    "        for item in itertools.product(col_list,col_list):\n",
    "            if item[0]!=item[1]:\n",
    "                cor_mat=tmp.loc[:,item]\n",
    "                cor_mat=cor_mat.dropna(axis=0)\n",
    "                cor_mat=cor_mat.as_matrix()\n",
    "#                 corr=sp.corrcoef(cor_mat.T)\n",
    "                print cor_mat[:,0]\n",
    "                corr,p=stats.pearsonr(cor_mat[:,0],cor_mat[:,1])\n",
    "                print corr,p\n",
    "#                 corr=corr[0,1]\n",
    "                if p<0.05:\n",
    "                    corr_dict[item]=np.abs(corr)\n",
    "                else:\n",
    "                    corr_dict[item]=np.nan\n",
    "            else:\n",
    "                pass\n",
    "        corr_dict_items=filter(lambda x:np.isnan(x[1])==False,corr_dict.items())\n",
    "        if len(corr_dict_items)>4:\n",
    "            selected_port=[item for item in sorted(corr_dict_items, key=lambda d:d[1])][0:3]\n",
    "            selected_port_1=selected_port[0]\n",
    "            selected_list=[x for x in selected_port_1[0]]\n",
    "            for i in range(len(selected_port)):\n",
    "                tmp_1=selected_port[i][0]\n",
    "                if tmp_1[0] not in selected_list or tmp_1[1] not in selected_list:\n",
    "                    selected_port_2=selected_port[i]\n",
    "                else:\n",
    "                    pass\n",
    "            selected_port_dict[year+1]=[selected_port_1,selected_port_2]\n",
    "        \n",
    "            print year+1, selected_port_1, '%.3f'%selected_port_dict[year+1][0][1]\n",
    "            print year+1, selected_port_2, '%.3f'%selected_port_dict[year+1][1][1]\n",
    "        #如果无法通过相关性检验，则选择波动性最低的几个品种\n",
    "        else:\n",
    "            tmp_=tmp.drop(['update_date','year'],axis=1)\n",
    "            std_list=np.std(tmp_)\n",
    "            std_list=std_list.to_dict()\n",
    "            std_list=filter(lambda x:np.isnan(x[1])==False,std_list.items())\n",
    "            if len(std_list)>4:\n",
    "                selected_port=[item for item in sorted(std_list,key=lambda d:d[1])][0:3]\n",
    "                selected_port_1=selected_port[0]\n",
    "                selected_list=[x for x in selected_port_1[0]]\n",
    "                for i in range(len(selected_port)):\n",
    "                    tmp_1=selected_port[i][0]\n",
    "                    if tmp_1[0] not in selected_list or tmp_1[1] not in selected_list:\n",
    "                        selected_port_2=selected_port[i]\n",
    "                    else:\n",
    "                        pass\n",
    "                selected_port_dict[year+1]=[selected_port_1,selected_port_2]\n",
    "                print 'std min: ',year+1, selected_port_1, '%.3f'%selected_port_dict[year+1][0][1]\n",
    "                print 'std min: ',year+1, selected_port_2, '%.3f'%selected_port_dict[year+1][1][1]\n",
    "            #如果还不行，那就直接按照过去一年的累积收益率高低进行排序，选择去年收益率最低的做一个反转策略\n",
    "            else:\n",
    "                mean_list=np.abs(np.mean(tmp_))\n",
    "                mean_list=mean_list.to_dict()\n",
    "                mean_list=filter(lambda x:np.isnan(x[1])==False,mean_list.items())\n",
    "                \n",
    "                \n",
    "                if len(mean_list)>4:\n",
    "                    selected_port=[item for item in sorted(mean_list,key=lambda d:d[1])][0:3]\n",
    "                    selected_port_1=selected_port[0]\n",
    "                    selected_list=[x for x in selected_port_1[0]]\n",
    "                    for i in range(len(selected_port)):\n",
    "                        tmp_1=selected_port[i][0]\n",
    "                        if tmp_1[0] not in selected_list or tmp_1[1] not in selected_list:\n",
    "                            selected_port_2=selected_port[i]\n",
    "                        else:\n",
    "                            pass\n",
    "                    selected_port_dict[year+1]=[selected_port_1,selected_port_2]\n",
    "                    print 'mean reverse: ',year+1, selected_port_1, '%.3f'%selected_port_dict[year+1][0][1]\n",
    "                    print 'mean reverse: ',year+1, selected_port_2, '%.3f'%selected_port_dict[year+1][1][1]\n",
    "                #如果这样都不行的话，那还是另请高明吧\n",
    "                else:\n",
    "                    \n",
    "\n",
    "                \n",
    "            \n",
    "    return selected_port_dict\n",
    "    \n",
    "                "
   ]
  },
  {
   "cell_type": "code",
   "execution_count": 56,
   "metadata": {
    "collapsed": true
   },
   "outputs": [],
   "source": [
    "asset_pool=['CU','ZN','PB','AL','NI','I','JM','J','WH','ZC','Y','TA','SR','RU','RM','P','M','C']"
   ]
  },
  {
   "cell_type": "code",
   "execution_count": 57,
   "metadata": {
    "collapsed": false,
    "scrolled": true
   },
   "outputs": [
    {
     "name": "stdout",
     "output_type": "stream",
     "text": [
      "[-0.05285065  0.03446566 -0.02461452  0.00890312 -0.0324583  -0.04219944\n",
      "  0.03797019 -0.05392533 -0.00643151 -0.00698821  0.03015736 -0.02412145\n",
      " -0.01134847  0.01791337 -0.04791456 -0.02472886 -0.013813    0.0373943\n",
      "  0.0015924   0.01832952 -0.01815601  0.00644029 -0.034463   -0.01234844\n",
      " -0.03553715 -0.04780478  0.01542932 -0.04335662  0.04544018 -0.00240731\n",
      " -0.04149328  0.04079318 -0.03501336 -0.00986882 -0.0357555  -0.01228835\n",
      "  0.02957365 -0.02089815  0.00807434 -0.00781737 -0.0202986   0.02102922\n",
      "  0.00038506  0.03631517]\n",
      "0.747208650713 5.67590981086e-09\n"
     ]
    },
    {
     "ename": "IndexError",
     "evalue": "invalid index to scalar variable.",
     "output_type": "error",
     "traceback": [
      "\u001b[0;31m---------------------------------------------------------------------------\u001b[0m",
      "\u001b[0;31mIndexError\u001b[0m                                Traceback (most recent call last)",
      "\u001b[0;32m<ipython-input-57-acb6e2be57f8>\u001b[0m in \u001b[0;36m<module>\u001b[0;34m()\u001b[0m\n\u001b[0;32m----> 1\u001b[0;31m \u001b[0ma\u001b[0m\u001b[0;34m=\u001b[0m\u001b[0mcomp_portfolio\u001b[0m\u001b[0;34m(\u001b[0m\u001b[0masset_pool\u001b[0m\u001b[0;34m)\u001b[0m\u001b[0;34m\u001b[0m\u001b[0m\n\u001b[0m",
      "\u001b[0;32m<ipython-input-55-0496c208c182>\u001b[0m in \u001b[0;36mcomp_portfolio\u001b[0;34m(asset_pool)\u001b[0m\n\u001b[1;32m     26\u001b[0m                 \u001b[0mcorr\u001b[0m\u001b[0;34m,\u001b[0m\u001b[0mp\u001b[0m\u001b[0;34m=\u001b[0m\u001b[0mstats\u001b[0m\u001b[0;34m.\u001b[0m\u001b[0mpearsonr\u001b[0m\u001b[0;34m(\u001b[0m\u001b[0mcor_mat\u001b[0m\u001b[0;34m[\u001b[0m\u001b[0;34m:\u001b[0m\u001b[0;34m,\u001b[0m\u001b[0;36m0\u001b[0m\u001b[0;34m]\u001b[0m\u001b[0;34m,\u001b[0m\u001b[0mcor_mat\u001b[0m\u001b[0;34m[\u001b[0m\u001b[0;34m:\u001b[0m\u001b[0;34m,\u001b[0m\u001b[0;36m1\u001b[0m\u001b[0;34m]\u001b[0m\u001b[0;34m)\u001b[0m\u001b[0;34m\u001b[0m\u001b[0m\n\u001b[1;32m     27\u001b[0m                 \u001b[0;32mprint\u001b[0m \u001b[0mcorr\u001b[0m\u001b[0;34m,\u001b[0m\u001b[0mp\u001b[0m\u001b[0;34m\u001b[0m\u001b[0m\n\u001b[0;32m---> 28\u001b[0;31m                 \u001b[0mcorr\u001b[0m\u001b[0;34m=\u001b[0m\u001b[0mcorr\u001b[0m\u001b[0;34m[\u001b[0m\u001b[0;36m0\u001b[0m\u001b[0;34m,\u001b[0m\u001b[0;36m1\u001b[0m\u001b[0;34m]\u001b[0m\u001b[0;34m\u001b[0m\u001b[0m\n\u001b[0m\u001b[1;32m     29\u001b[0m                 \u001b[0mcorr_dict\u001b[0m\u001b[0;34m[\u001b[0m\u001b[0mitem\u001b[0m\u001b[0;34m]\u001b[0m\u001b[0;34m=\u001b[0m\u001b[0mnp\u001b[0m\u001b[0;34m.\u001b[0m\u001b[0mabs\u001b[0m\u001b[0;34m(\u001b[0m\u001b[0mcorr\u001b[0m\u001b[0;34m)\u001b[0m\u001b[0;34m\u001b[0m\u001b[0m\n\u001b[1;32m     30\u001b[0m             \u001b[0;32melse\u001b[0m\u001b[0;34m:\u001b[0m\u001b[0;34m\u001b[0m\u001b[0m\n",
      "\u001b[0;31mIndexError\u001b[0m: invalid index to scalar variable."
     ]
    }
   ],
   "source": [
    "a=comp_portfolio(asset_pool)"
   ]
  },
  {
   "cell_type": "code",
   "execution_count": 31,
   "metadata": {
    "collapsed": false,
    "scrolled": true
   },
   "outputs": [
    {
     "name": "stdout",
     "output_type": "stream",
     "text": [
      "2016\n",
      "2017\n",
      "2018\n",
      "no data!\n",
      "2009\n",
      "2010\n",
      "2011\n",
      "2012\n",
      "2013\n",
      "2014\n",
      "2015\n"
     ]
    }
   ],
   "source": [
    "mixed_port=pd.DataFrame()\n",
    "for item in a.items():\n",
    "    print item[0]\n",
    "\n",
    "    \n",
    "#####如果取前两对############\n",
    "    tmp_1=portfolio(item[1][0][0][0],item[1][0][0][1])\n",
    "    tmp_1['update_date']=pd.to_datetime(tmp_1['update_date'])\n",
    "    tmp_1=tmp_1[tmp_1['update_date'].apply(lambda x:x.year)==item[0]]\n",
    "    tmp_2=portfolio(item[1][1][0][0],item[1][1][0][1])\n",
    "    tmp_2['update_date']=pd.to_datetime(tmp_2['update_date'])\n",
    "    tmp_2=tmp_2[tmp_2['update_date'].apply(lambda x:x.year)==item[0]]\n",
    "    tmp=port_port(tmp_1,tmp_2)\n",
    "\n",
    "#####如果只取一对###########\n",
    "#     tmp=portfolio(item[1][0][0][0],item[1][0][0][1])\n",
    "#     tmp['update_date']=pd.to_datetime(tmp['update_date'])\n",
    "#     tmp=tmp[tmp['update_date'].apply(lambda x:x.year)==item[0]]\n",
    "##########################\n",
    "    \n",
    "    if len(tmp)>0:\n",
    "        tmp['update_date']=pd.to_datetime(tmp['update_date'])\n",
    "        tmp=tmp[tmp['update_date'].apply(lambda x:x.year)==item[0]]\n",
    "        tmp=tmp.loc[:,['update_date','portfolio_return','close_return']]\n",
    "        mixed_port=mixed_port.append(tmp)\n",
    "    else:\n",
    "        print 'no data!'\n",
    "        pass\n",
    "    "
   ]
  },
  {
   "cell_type": "code",
   "execution_count": 32,
   "metadata": {
    "collapsed": true
   },
   "outputs": [],
   "source": [
    "mixed_port=mixed_port.sort('update_date')\n",
    "mixed_port['cum_return']=mixed_port['portfolio_return'].cumsum()\n",
    "mixed_port['benchmark']=mixed_port['close_return'].cumsum()\n",
    "mixed_port['cum_max']=mixed_port['cum_return'].cummax()\n",
    "mixed_port['drawdown']=mixed_port['cum_return']-mixed_port['cum_max']"
   ]
  },
  {
   "cell_type": "code",
   "execution_count": 33,
   "metadata": {
    "collapsed": false
   },
   "outputs": [
    {
     "data": {
      "text/plain": [
       "-0.14635711888512923"
      ]
     },
     "execution_count": 33,
     "metadata": {},
     "output_type": "execute_result"
    }
   ],
   "source": [
    "np.min(mixed_port['drawdown'])"
   ]
  },
  {
   "cell_type": "code",
   "execution_count": 34,
   "metadata": {
    "collapsed": false,
    "scrolled": false
   },
   "outputs": [
    {
     "data": {
      "text/plain": [
       "<matplotlib.legend.Legend at 0x10bfe0ed0>"
      ]
     },
     "execution_count": 34,
     "metadata": {},
     "output_type": "execute_result"
    },
    {
     "data": {
      "image/png": "[encoded data removed]",
      "text/plain": [
       "<matplotlib.figure.Figure at 0x10bfd0290>"
      ]
     },
     "metadata": {},
     "output_type": "display_data"
    }
   ],
   "source": [
    "plt.figure(figsize=(15,10))\n",
    "plt.plot(mixed_port['update_date'],mixed_port['cum_return'])\n",
    "plt.plot(mixed_port['update_date'],mixed_port['benchmark'],label='benchmark')\n",
    "plt.legend()"
   ]
  },
  {
   "cell_type": "code",
   "execution_count": 35,
   "metadata": {
    "collapsed": false,
    "scrolled": true
   },
   "outputs": [],
   "source": [
    "mixed_port['year']=mixed_port['update_date'].apply(lambda x: x.year)\n",
    "each_year_return=mixed_port.groupby(['year']).portfolio_return.sum()"
   ]
  },
  {
   "cell_type": "code",
   "execution_count": 36,
   "metadata": {
    "collapsed": false
   },
   "outputs": [
    {
     "data": {
      "text/plain": [
       "year\n",
       "2009    0.289824\n",
       "2010    0.202641\n",
       "2011    0.070270\n",
       "2012    0.098779\n",
       "2013   -0.016309\n",
       "2014    0.204684\n",
       "2015    0.075158\n",
       "2016    0.212401\n",
       "2017   -0.016854\n",
       "Name: portfolio_return, dtype: float64"
      ]
     },
     "execution_count": 36,
     "metadata": {},
     "output_type": "execute_result"
    }
   ],
   "source": [
    "each_year_return"
   ]
  },
  {
   "cell_type": "code",
   "execution_count": 37,
   "metadata": {
    "collapsed": false
   },
   "outputs": [
    {
     "data": {
      "text/plain": [
       "1.1862625245778018"
      ]
     },
     "execution_count": 37,
     "metadata": {},
     "output_type": "execute_result"
    }
   ],
   "source": [
    "(np.mean(mixed_port['portfolio_return'])*252)/(np.std(mixed_port['portfolio_return'])*np.sqrt(252))"
   ]
  },
  {
   "cell_type": "code",
   "execution_count": 38,
   "metadata": {
    "collapsed": false
   },
   "outputs": [
    {
     "data": {
      "text/plain": [
       "0.14466682243664594"
      ]
     },
     "execution_count": 38,
     "metadata": {},
     "output_type": "execute_result"
    }
   ],
   "source": [
    "np.mean(mixed_port['portfolio_return'])*252"
   ]
  },
  {
   "cell_type": "code",
   "execution_count": 39,
   "metadata": {
    "collapsed": true
   },
   "outputs": [],
   "source": [
    "import datetime"
   ]
  },
  {
   "cell_type": "code",
   "execution_count": null,
   "metadata": {
    "collapsed": true
   },
   "outputs": [],
   "source": [
    "datetime.timedelta"
   ]
  },
  {
   "cell_type": "code",
   "execution_count": 58,
   "metadata": {
    "collapsed": true
   },
   "outputs": [],
   "source": [
    "a={}"
   ]
  },
  {
   "cell_type": "code",
   "execution_count": 59,
   "metadata": {
    "collapsed": false
   },
   "outputs": [
    {
     "data": {
      "text/plain": [
       "0"
      ]
     },
     "execution_count": 59,
     "metadata": {},
     "output_type": "execute_result"
    }
   ],
   "source": [
    "len(a)"
   ]
  },
  {
   "cell_type": "code",
   "execution_count": 60,
   "metadata": {
    "collapsed": true
   },
   "outputs": [],
   "source": [
    "a['i']=1"
   ]
  },
  {
   "cell_type": "code",
   "execution_count": 61,
   "metadata": {
    "collapsed": false
   },
   "outputs": [
    {
     "data": {
      "text/plain": [
       "1"
      ]
     },
     "execution_count": 61,
     "metadata": {},
     "output_type": "execute_result"
    }
   ],
   "source": [
    "len(a)"
   ]
  },
  {
   "cell_type": "code",
   "execution_count": 62,
   "metadata": {
    "collapsed": true
   },
   "outputs": [],
   "source": [
    "a=pd.read_csv('/Users/liyuefan/Documents/gtja/ZNFI_0112.csv',encoding='gbk')"
   ]
  },
  {
   "cell_type": "code",
   "execution_count": 65,
   "metadata": {
    "collapsed": false
   },
   "outputs": [],
   "source": [
    "a.drop(['update_date'],axis=1,inplace=True)"
   ]
  },
  {
   "cell_type": "code",
   "execution_count": 68,
   "metadata": {
    "collapsed": false
   },
   "outputs": [],
   "source": [
    "l=np.std(a)"
   ]
  },
  {
   "cell_type": "code",
   "execution_count": 72,
   "metadata": {
    "collapsed": false
   },
   "outputs": [
    {
     "data": {
      "text/plain": [
       "{u'close': 2419.1519644672549,\n",
       " u'high': 2659.8215115043909,\n",
       " u'low': 2626.2227519334615,\n",
       " u'open': 2640.3262769188159,\n",
       " u'volume': 432624.91161845281}"
      ]
     },
     "execution_count": 72,
     "metadata": {},
     "output_type": "execute_result"
    }
   ],
   "source": [
    "l.to_dict()"
   ]
  },
  {
   "cell_type": "code",
   "execution_count": null,
   "metadata": {
    "collapsed": true
   },
   "outputs": [],
   "source": []
  }
 ],
 "metadata": {
  "anaconda-cloud": {},
  "kernelspec": {
   "display_name": "Python [Root]",
   "language": "python",
   "name": "Python [Root]"
  },
  "language_info": {
   "codemirror_mode": {
    "name": "ipython",
    "version": 2
   },
   "file_extension": ".py",
   "mimetype": "text/x-python",
   "name": "python",
   "nbconvert_exporter": "python",
   "pygments_lexer": "ipython2",
   "version": "2.7.13"
  }
 },
 "nbformat": 4,
 "nbformat_minor": 0
}
