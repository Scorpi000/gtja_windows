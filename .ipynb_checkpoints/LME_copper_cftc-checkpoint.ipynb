{
 "cells": [
  {
   "cell_type": "code",
   "execution_count": 713,
   "metadata": {
    "collapsed": true,
    "deletable": true,
    "editable": true
   },
   "outputs": [],
   "source": [
    "import pandas as pd\n",
    "import numpy as np\n",
    "import matplotlib.pyplot as plt\n",
    "%matplotlib inline"
   ]
  },
  {
   "cell_type": "code",
   "execution_count": 714,
   "metadata": {
    "collapsed": false,
    "deletable": true,
    "editable": true
   },
   "outputs": [],
   "source": [
    "df=pd.read_excel('LME_COPPER.xlsx',sheetname='Sheet1')"
   ]
  },
  {
   "cell_type": "code",
   "execution_count": 715,
   "metadata": {
    "collapsed": false,
    "deletable": true,
    "editable": true
   },
   "outputs": [],
   "source": [
    "N_col=df.shape[1]\n",
    "update_date=df.iloc[3:,0]\n",
    "new_df=pd.DataFrame()\n",
    "new_df['update_date']=update_date\n",
    "for i in range(1,N_col,2):\n",
    "    indicator_name=df.iloc[1,i]\n",
    "    data=df.iloc[3:,i]\n",
    "    new_df[indicator_name]=data"
   ]
  },
  {
   "cell_type": "code",
   "execution_count": 716,
   "metadata": {
    "collapsed": false,
    "deletable": true,
    "editable": true
   },
   "outputs": [],
   "source": [
    "new_df['update_date']=pd.to_datetime(new_df['update_date'])\n",
    "new_df['NON-COMMERCIAL LONG']=new_df['NON-COMMERCIAL LONG'].astype(float)\n",
    "new_df['NON-COMMERCIAL SHORT']=new_df['NON-COMMERCIAL SHORT'].astype(float)\n",
    "new_df['COMMERCIAL LONG']=new_df['COMMERCIAL LONG'].astype(float)\n",
    "new_df['COMMERCIAL SHORT']=new_df['COMMERCIAL SHORT'].astype(float)\n",
    "new_df['OPEN INTEREST']=new_df['OPEN INTEREST'].astype(float)"
   ]
  },
  {
   "cell_type": "code",
   "execution_count": 717,
   "metadata": {
    "collapsed": false,
    "deletable": true,
    "editable": true
   },
   "outputs": [],
   "source": [
    "cufi=pd.read_csv('CUFI_zhulian.csv',encoding='gbk')\n",
    "cufi['update_date']=pd.to_datetime(cufi['update_date'])"
   ]
  },
  {
   "cell_type": "code",
   "execution_count": 718,
   "metadata": {
    "collapsed": false,
    "deletable": true,
    "editable": true
   },
   "outputs": [],
   "source": [
    "# cufi_close=cufi[['update_date','close','open','high','low']]\n",
    "cufi_close=cufi[['update_date','close','high','low']]"
   ]
  },
  {
   "cell_type": "code",
   "execution_count": null,
   "metadata": {
    "collapsed": true
   },
   "outputs": [],
   "source": [
    "cufi_intraday=pd.read_csv('CU_intraday_2year.csv',encoding='gbk')\n",
    "cufi_intraday['update_date']=pd.to_datetime(cufi_intraday['update_date'])\n",
    "cufi_intraday['date']=cufi_intraday['update_date'].apply(lambda x:x.date())"
   ]
  },
  {
   "cell_type": "code",
   "execution_count": null,
   "metadata": {
    "collapsed": false
   },
   "outputs": [
    {
     "name": "stderr",
     "output_type": "stream",
     "text": [
      "/Users/liyuefan/anaconda2/lib/python2.7/site-packages/ipykernel/__main__.py:3: FutureWarning: sort(columns=....) is deprecated, use sort_values(by=.....)\n",
      "  app.launch_new_instance()\n"
     ]
    }
   ],
   "source": [
    "cufi_1stmin=pd.DataFrame()\n",
    "for i,j in cufi_intraday.groupby(['date']):\n",
    "    j=j.sort(['update_date'])\n",
    "    t=j.iloc[0,:]\n",
    "    cufi_1stmin=cufi_1stmin.append(t)"
   ]
  },
  {
   "cell_type": "code",
   "execution_count": null,
   "metadata": {
    "collapsed": false
   },
   "outputs": [],
   "source": [
    "cufi_1stmin=cufi_1stmin[['date','close']]\n",
    "cufi_1stmin=cufi_1stmin.rename(columns={'date':'update_date','close':'open'})\n",
    "cufi_1stmin['update_date']=pd.to_datetime(cufi_1stmin['update_date'])"
   ]
  },
  {
   "cell_type": "code",
   "execution_count": null,
   "metadata": {
    "collapsed": true
   },
   "outputs": [],
   "source": [
    "cufi_close=pd.merge(cufi_close,cufi_1stmin,on=['update_date'],how='inner')"
   ]
  },
  {
   "cell_type": "code",
   "execution_count": null,
   "metadata": {
    "collapsed": false,
    "deletable": true,
    "editable": true
   },
   "outputs": [],
   "source": [
    "new_df=pd.merge(new_df,cufi_close,on=['update_date'],how='inner')"
   ]
  },
  {
   "cell_type": "code",
   "execution_count": null,
   "metadata": {
    "collapsed": false,
    "deletable": true,
    "editable": true
   },
   "outputs": [],
   "source": [
    "new_df.index=[new_df['update_date']]"
   ]
  },
  {
   "cell_type": "code",
   "execution_count": null,
   "metadata": {
    "collapsed": false,
    "deletable": true,
    "editable": true
   },
   "outputs": [],
   "source": [
    "plt.figure(figsize=(15,6))\n",
    "plt.bar(new_df.index,new_df['OPEN INTEREST'],color='orange',alpha=0.3)\n",
    "ax2=plt.twinx()\n",
    "ax2.plot(new_df['close'],color='blue')"
   ]
  },
  {
   "cell_type": "code",
   "execution_count": null,
   "metadata": {
    "collapsed": false,
    "deletable": true,
    "editable": true
   },
   "outputs": [],
   "source": [
    "plt.figure(figsize=(15,6))\n",
    "plt.bar(new_df.index,new_df['NON-COMMERCIAL LONG'],color='orange',alpha=0.3)\n",
    "ax2=plt.twinx()\n",
    "ax2.plot(new_df['close'],color='blue')"
   ]
  },
  {
   "cell_type": "code",
   "execution_count": null,
   "metadata": {
    "collapsed": false,
    "deletable": true,
    "editable": true
   },
   "outputs": [],
   "source": [
    "new_df['NON-COMMERCIAL LONG PERCENTAGE']=new_df['NON-COMMERCIAL LONG']/new_df['OPEN INTEREST']\n",
    "new_df['NON-COMMERCIAL SHORT PERCENTAGE']=new_df['NON-COMMERCIAL SHORT']/new_df['OPEN INTEREST']\n",
    "new_df['COMMERCIAL SHORT PERCENTAGE']=new_df['COMMERCIAL SHORT']/new_df['OPEN INTEREST']\n",
    "new_df['COMMERCIAL LONG PERCENTAGE']=new_df['COMMERCIAL LONG']/new_df['OPEN INTEREST']"
   ]
  },
  {
   "cell_type": "code",
   "execution_count": null,
   "metadata": {
    "collapsed": false,
    "deletable": true,
    "editable": true
   },
   "outputs": [],
   "source": [
    "new_df['NET NON-COMMERCIAL PERCENTAGE']=new_df['NON-COMMERCIAL LONG PERCENTAGE']-new_df['NON-COMMERCIAL SHORT PERCENTAGE']"
   ]
  },
  {
   "cell_type": "code",
   "execution_count": null,
   "metadata": {
    "collapsed": false,
    "deletable": true,
    "editable": true
   },
   "outputs": [],
   "source": [
    "new_df['pct_chg']=np.log(new_df['close'])\n",
    "new_df['pct_chg']=new_df['pct_chg'].diff()"
   ]
  },
  {
   "cell_type": "code",
   "execution_count": null,
   "metadata": {
    "collapsed": false,
    "deletable": true,
    "editable": true
   },
   "outputs": [],
   "source": [
    "cftc=pd.read_csv('CFTC_CU.csv',encoding='gbk',thousands=',')"
   ]
  },
  {
   "cell_type": "code",
   "execution_count": null,
   "metadata": {
    "collapsed": false,
    "deletable": true,
    "editable": true
   },
   "outputs": [],
   "source": [
    "cftc_data=cftc.iloc[1:,:]\n",
    "cftc_cln=pd.DataFrame(cftc_data)\n",
    "cftc_cln.columns=['update_date','non_comm_long','non_comm_short','non_comm_arb','comm_long','comm_short','open_interest']\n",
    "cftc_cln=cftc_cln.dropna(axis=0)\n",
    "cftc_cln['update_date']=pd.to_datetime(cftc_cln['update_date'])\n"
   ]
  },
  {
   "cell_type": "code",
   "execution_count": null,
   "metadata": {
    "collapsed": true,
    "deletable": true,
    "editable": true
   },
   "outputs": [],
   "source": [
    "def thousands(series):\n",
    "    return series.str.replace(',','').astype(float)"
   ]
  },
  {
   "cell_type": "code",
   "execution_count": null,
   "metadata": {
    "collapsed": false,
    "deletable": true,
    "editable": true
   },
   "outputs": [],
   "source": [
    "for col in cftc_cln.columns:\n",
    "    if col!='update_date':\n",
    "        cftc_cln[col]=thousands(cftc_cln[col])\n",
    "    else:\n",
    "        pass"
   ]
  },
  {
   "cell_type": "code",
   "execution_count": null,
   "metadata": {
    "collapsed": false,
    "deletable": true,
    "editable": true
   },
   "outputs": [],
   "source": [
    "cftc_cln['non_comm_net']=cftc_cln['non_comm_long']-cftc_cln['non_comm_short']\n",
    "cftc_cln['non_comm_per']=cftc_cln['non_comm_net']/cftc_cln['open_interest']"
   ]
  },
  {
   "cell_type": "code",
   "execution_count": null,
   "metadata": {
    "collapsed": true,
    "deletable": true,
    "editable": true
   },
   "outputs": [],
   "source": [
    "tmp_df=pd.merge(cftc_cln[['update_date','non_comm_per']],new_df[['update_date','close']],on=['update_date'],how='inner')\n",
    "tmp_df.index=[tmp_df['update_date']]"
   ]
  },
  {
   "cell_type": "code",
   "execution_count": null,
   "metadata": {
    "collapsed": false,
    "deletable": true,
    "editable": true
   },
   "outputs": [],
   "source": [
    "new_df['NON_COMM_PER']=(new_df['NON-COMMERCIAL LONG']-new_df['NON-COMMERCIAL SHORT'])/new_df['OPEN INTEREST']\n",
    "non_comm_per_df=pd.merge(new_df[['update_date','NON_COMM_PER']],cftc_cln[['update_date','non_comm_per']],on=['update_date'],how='inner')"
   ]
  },
  {
   "cell_type": "code",
   "execution_count": null,
   "metadata": {
    "collapsed": false,
    "deletable": true,
    "editable": true
   },
   "outputs": [],
   "source": [
    "non_comm_per_df.index=[non_comm_per_df['update_date']]"
   ]
  },
  {
   "cell_type": "code",
   "execution_count": null,
   "metadata": {
    "collapsed": true,
    "deletable": true,
    "editable": true
   },
   "outputs": [],
   "source": [
    "import statsmodels.api as sm"
   ]
  },
  {
   "cell_type": "code",
   "execution_count": null,
   "metadata": {
    "collapsed": true,
    "deletable": true,
    "editable": true
   },
   "outputs": [],
   "source": [
    "Y=np.array(non_comm_per_df['non_comm_per'])\n",
    "X=np.array(non_comm_per_df['NON_COMM_PER'])\n",
    "X=sm.add_constant(X)"
   ]
  },
  {
   "cell_type": "code",
   "execution_count": null,
   "metadata": {
    "collapsed": false,
    "deletable": true,
    "editable": true
   },
   "outputs": [],
   "source": [
    "X_full=np.array(new_df['NON_COMM_PER'])\n",
    "X_full=sm.add_constant(X_full)"
   ]
  },
  {
   "cell_type": "code",
   "execution_count": null,
   "metadata": {
    "collapsed": false,
    "deletable": true,
    "editable": true
   },
   "outputs": [],
   "source": [
    "# result.params"
   ]
  },
  {
   "cell_type": "code",
   "execution_count": null,
   "metadata": {
    "collapsed": false,
    "deletable": true,
    "editable": true
   },
   "outputs": [],
   "source": [
    "# Y_full=np.sum(X_full*result.params,axis=1)"
   ]
  },
  {
   "cell_type": "code",
   "execution_count": null,
   "metadata": {
    "collapsed": true,
    "deletable": true,
    "editable": true
   },
   "outputs": [],
   "source": [
    "def rolling_lm(Y,X,step):\n",
    "    if len(Y)==len(X):\n",
    "        N=len(Y)\n",
    "        full_cftc_array=np.zeros((N,2),dtype=np.float)\n",
    "        for i in range(step-1,N):\n",
    "            X_train=X[np.max((0,i-step+1)):i]\n",
    "            Y_train=Y[np.max((0,i-step+1)):i]\n",
    "            lm=sm.OLS(Y_train,X_train)\n",
    "            result=lm.fit()\n",
    "            param=result.params\n",
    "            full_cftc_array[i,0]=param[0]\n",
    "            full_cftc_array[i,1]=param[1]\n",
    "    else:\n",
    "        return None\n",
    "    return full_cftc_array"
   ]
  },
  {
   "cell_type": "code",
   "execution_count": null,
   "metadata": {
    "collapsed": false,
    "deletable": true,
    "editable": true,
    "scrolled": true
   },
   "outputs": [],
   "source": [
    "Y_param=rolling_lm(Y,X,30)"
   ]
  },
  {
   "cell_type": "code",
   "execution_count": null,
   "metadata": {
    "collapsed": false,
    "deletable": true,
    "editable": true
   },
   "outputs": [],
   "source": [
    "non_comm_per_df['const']=Y_param[:,0]\n",
    "non_comm_per_df['coef']=Y_param[:,1]"
   ]
  },
  {
   "cell_type": "code",
   "execution_count": null,
   "metadata": {
    "collapsed": false,
    "deletable": true,
    "editable": true
   },
   "outputs": [],
   "source": [
    "full_df=pd.DataFrame()\n",
    "full_df['update_date']=new_df['update_date']\n",
    "full_df['NON_COMM_PER']=new_df['NON_COMM_PER']\n",
    "full_df=pd.merge(full_df,non_comm_per_df[['update_date','const','coef']],on=['update_date'],how='outer')\n",
    "full_df['const']=full_df['const'].shift(4)\n",
    "full_df['coef']=full_df['coef'].shift(4)\n",
    "full_df['const']=full_df['const'].fillna(method='ffill')\n",
    "full_df['coef']=full_df['coef'].fillna(method='ffill')\n",
    "full_df['Y_full']=full_df['coef']*full_df['NON_COMM_PER']+full_df['const']\n",
    "# full_df['Y_full']=Y_full\n",
    "full_df=full_df.dropna(axis=0)\n",
    "full_df=full_df.sort(['update_date'])"
   ]
  },
  {
   "cell_type": "code",
   "execution_count": null,
   "metadata": {
    "collapsed": false,
    "deletable": true,
    "editable": true
   },
   "outputs": [],
   "source": [
    "full_df=pd.merge(full_df,non_comm_per_df[['update_date','non_comm_per']],on=['update_date'],how='outer')\n",
    "full_df['non_comm_per']=full_df['non_comm_per'].fillna(method='ffill')\n",
    "full_df.index=[full_df['update_date']]"
   ]
  },
  {
   "cell_type": "code",
   "execution_count": null,
   "metadata": {
    "collapsed": false,
    "deletable": true,
    "editable": true
   },
   "outputs": [],
   "source": [
    "full_df=pd.merge(full_df,new_df[['update_date','close','open','high','low']],on=['update_date'],how='inner')"
   ]
  },
  {
   "cell_type": "code",
   "execution_count": null,
   "metadata": {
    "collapsed": false,
    "deletable": true,
    "editable": true
   },
   "outputs": [],
   "source": [
    "full_df['close_ma']=pd.rolling_mean(full_df['close'],5)\n",
    "full_df['Y_full_ma']=pd.rolling_mean(full_df['Y_full'],5)\n",
    "# full_df['Y_full_ma']=full_df['Y_full_ma'].shift(1)\n",
    "full_df['close_ma_diff']=full_df['close_ma'].diff()\n",
    "full_df['Y_full_ma_diff']=full_df['Y_full_ma'].diff()"
   ]
  },
  {
   "cell_type": "code",
   "execution_count": null,
   "metadata": {
    "collapsed": false,
    "deletable": true,
    "editable": true
   },
   "outputs": [],
   "source": [
    "full_df=full_df.dropna(axis=0)"
   ]
  },
  {
   "cell_type": "code",
   "execution_count": null,
   "metadata": {
    "collapsed": false
   },
   "outputs": [],
   "source": [
    "# c_upper_thr=full_df['close_ma_diff'].quantile(0.6)\n",
    "# c_lower_thr=full_df['close_ma_diff'].quantile(0.4)\n",
    "# y_upper_thr=full_df['Y_full_ma_diff'].quantile(0.6)\n",
    "# y_lower_thr=full_df['Y_full_ma_diff'].quantile(0.4)"
   ]
  },
  {
   "cell_type": "code",
   "execution_count": null,
   "metadata": {
    "collapsed": true
   },
   "outputs": [],
   "source": [
    "def c_(u,l):\n",
    "    def cc(x):\n",
    "        if x>=u:\n",
    "            return 1\n",
    "        elif x<=l:\n",
    "            return -1\n",
    "        else:\n",
    "            return 0\n",
    "    return cc"
   ]
  },
  {
   "cell_type": "code",
   "execution_count": null,
   "metadata": {
    "collapsed": false
   },
   "outputs": [],
   "source": [
    "# compare_close=c_(c_upper_thr,c_lower_thr)\n",
    "# compare_y=c_(y_upper_thr,y_lower_thr)"
   ]
  },
  {
   "cell_type": "code",
   "execution_count": null,
   "metadata": {
    "collapsed": false,
    "deletable": true,
    "editable": true
   },
   "outputs": [],
   "source": [
    "# full_df['close_ma_sig']=full_df['close_ma_diff'].apply(compare_close)\n",
    "# full_df['Y_full_ma_sig']=full_df['Y_full_ma_diff'].apply(compare_y)"
   ]
  },
  {
   "cell_type": "code",
   "execution_count": null,
   "metadata": {
    "collapsed": true
   },
   "outputs": [],
   "source": [
    "full_df['close_diff_qtl_up']=pd.rolling_quantile(full_df['close_ma_diff'],100,0.6)\n",
    "full_df['close_diff_qtl_low']=pd.rolling_quantile(full_df['close_ma_diff'],100,0.4)\n",
    "full_df['y_diff_qtl_up']=pd.rolling_quantile(full_df['Y_full_ma_diff'],100,0.6)\n",
    "full_df['y_diff_qtl_low']=pd.rolling_quantile(full_df['Y_full_ma_diff'],100,0.4)"
   ]
  },
  {
   "cell_type": "code",
   "execution_count": null,
   "metadata": {
    "collapsed": true
   },
   "outputs": [],
   "source": [
    "def cc_2(x,u,l):\n",
    "    if x>=u:\n",
    "        return 1\n",
    "    elif x<=l:\n",
    "        return -1\n",
    "    else:\n",
    "        return 0"
   ]
  },
  {
   "cell_type": "code",
   "execution_count": null,
   "metadata": {
    "collapsed": true
   },
   "outputs": [],
   "source": [
    "full_df['close_ma_sig']=map(cc_2,full_df['close_ma_diff'],full_df['close_diff_qtl_up'],full_df['close_diff_qtl_low'])\n",
    "full_df['Y_full_ma_sig']=map(cc_2,full_df['Y_full_ma_diff'],full_df['y_diff_qtl_up'],full_df['y_diff_qtl_low'])"
   ]
  },
  {
   "cell_type": "code",
   "execution_count": null,
   "metadata": {
    "collapsed": false,
    "deletable": true,
    "editable": true
   },
   "outputs": [],
   "source": [
    "def sig(x,y):\n",
    "    if x==y and x!=0:\n",
    "        return x\n",
    "    elif x*y==-1:\n",
    "        return -x\n",
    "    else:\n",
    "        return 0"
   ]
  },
  {
   "cell_type": "code",
   "execution_count": null,
   "metadata": {
    "collapsed": false,
    "deletable": true,
    "editable": true
   },
   "outputs": [],
   "source": [
    "full_df['dir']=map(sig,full_df['close_ma_sig'],full_df['Y_full_ma_sig'])"
   ]
  },
  {
   "cell_type": "code",
   "execution_count": null,
   "metadata": {
    "collapsed": false,
    "deletable": true,
    "editable": true
   },
   "outputs": [],
   "source": [
    "# full_df['r']=np.log(full_df['close'])\n",
    "# full_df['r']=full_df['r'].diff()\n",
    "# full_df['r']=(full_df['close']-full_df['open'])/full_df['open']\n",
    "\n",
    "full_df['r']=np.log(full_df['open'])\n",
    "full_df['r']=full_df['r'].diff()"
   ]
  },
  {
   "cell_type": "code",
   "execution_count": null,
   "metadata": {
    "collapsed": false,
    "deletable": true,
    "editable": true
   },
   "outputs": [],
   "source": [
    "full_df['dir']=full_df['dir'].shift(1)"
   ]
  },
  {
   "cell_type": "code",
   "execution_count": null,
   "metadata": {
    "collapsed": true
   },
   "outputs": [],
   "source": [
    "# full_df['close_yes']=full_df['close'].shift(1)\n",
    "# can_trade=np.zeros(len(full_df))\n",
    "# for i in range(len(full_df)):\n",
    "#     if full_df.iloc[i,:]['dir']==1:\n",
    "#         if full_df.iloc[i,:]['close_yes']>=full_df.iloc[i,:]['low']:\n",
    "#             can_trade[i]=1\n",
    "#         else:\n",
    "#             pass\n",
    "#     elif full_df.iloc[i,:]['dir']==-1:\n",
    "#         if full_df.iloc[i,:]['close_yes']<=full_df.iloc[i,:]['high']:\n",
    "#             can_trade[i]=1\n",
    "#         else:\n",
    "#             pass\n",
    "# full_df['can_trade']=can_trade\n",
    "# full_df['dir']=full_df['dir']*full_df['can_trade']"
   ]
  },
  {
   "cell_type": "code",
   "execution_count": null,
   "metadata": {
    "collapsed": false,
    "deletable": true,
    "editable": true
   },
   "outputs": [],
   "source": [
    "full_df['daily_r']=full_df['dir']*full_df['r']"
   ]
  },
  {
   "cell_type": "code",
   "execution_count": null,
   "metadata": {
    "collapsed": false,
    "deletable": true,
    "editable": true
   },
   "outputs": [],
   "source": [
    "full_df['cum_r']=full_df['daily_r'].cumsum()"
   ]
  },
  {
   "cell_type": "code",
   "execution_count": null,
   "metadata": {
    "collapsed": false,
    "deletable": true,
    "editable": true,
    "scrolled": false
   },
   "outputs": [],
   "source": [
    "full_df.index=[full_df['update_date']]\n",
    "plt.figure(figsize=(15,12))\n",
    "# plt.plot(full_df.index,pd.rolling_mean(full_df['Y_full'],5),color='orange')\n",
    "# # plt.bar(full_df.index,full_df['Y_full'],color='orange',alpha=0.5)\n",
    "# ax2=plt.twinx()\n",
    "# ax2.plot(new_df.index,pd.rolling_mean(new_df['close'],5))\n",
    "plt.plot(new_df.index,new_df['close'],color='red')\n",
    "ax2=plt.twinx()\n",
    "ax2.bar(full_df.index,full_df['dir'],color='green',alpha=0.3)\n",
    "# ax4=ax3.twinx()\n",
    "ax2.plot(full_df.index,full_df['cum_r'],color='orange')"
   ]
  },
  {
   "cell_type": "code",
   "execution_count": null,
   "metadata": {
    "collapsed": false,
    "deletable": true,
    "editable": true,
    "scrolled": false
   },
   "outputs": [],
   "source": [
    "plt.figure(figsize=(15,8))\n",
    "plt.plot(full_df['update_date'],full_df['cum_r'],color='red',label='cum')\n",
    "# ax2=plt.twinx()\n",
    "# ax2.plot(full_df['update_date'],full_df['close'],'b.-',label='close',alpha=0.6)\n",
    "plt.legend()"
   ]
  },
  {
   "cell_type": "code",
   "execution_count": null,
   "metadata": {
    "collapsed": false
   },
   "outputs": [],
   "source": [
    "len(full_df[full_df['dir']!=0])"
   ]
  },
  {
   "cell_type": "code",
   "execution_count": null,
   "metadata": {
    "collapsed": false
   },
   "outputs": [],
   "source": [
    "(np.mean(full_df['daily_r'])*252-0.03)/(np.sqrt(252)*np.std(full_df['daily_r']))"
   ]
  },
  {
   "cell_type": "code",
   "execution_count": null,
   "metadata": {
    "collapsed": false
   },
   "outputs": [],
   "source": [
    "full_df=full_df.dropna(axis=0)"
   ]
  },
  {
   "cell_type": "code",
   "execution_count": null,
   "metadata": {
    "collapsed": false
   },
   "outputs": [],
   "source": [
    "reverse_df=full_df[full_df['close_ma_sig']!=full_df['Y_full_ma_sig']]"
   ]
  },
  {
   "cell_type": "code",
   "execution_count": null,
   "metadata": {
    "collapsed": false
   },
   "outputs": [],
   "source": [
    "win_reverse=reverse_df[reverse_df['daily_r']>=0]"
   ]
  },
  {
   "cell_type": "code",
   "execution_count": null,
   "metadata": {
    "collapsed": false
   },
   "outputs": [],
   "source": [
    "float(len(win_reverse))/len(reverse_df)"
   ]
  },
  {
   "cell_type": "code",
   "execution_count": null,
   "metadata": {
    "collapsed": false
   },
   "outputs": [],
   "source": [
    "trend_df=full_df[full_df['close_ma_sig']==full_df['Y_full_ma_sig']][full_df['dir']!=0]"
   ]
  },
  {
   "cell_type": "code",
   "execution_count": null,
   "metadata": {
    "collapsed": false
   },
   "outputs": [],
   "source": [
    "win_trend=trend_df[trend_df['daily_r']>=0]"
   ]
  },
  {
   "cell_type": "code",
   "execution_count": null,
   "metadata": {
    "collapsed": false
   },
   "outputs": [],
   "source": [
    "float(len(win_trend))/len(trend_df)"
   ]
  },
  {
   "cell_type": "code",
   "execution_count": null,
   "metadata": {
    "collapsed": false
   },
   "outputs": [],
   "source": [
    "np.mean(full_df['daily_r'])*252"
   ]
  },
  {
   "cell_type": "code",
   "execution_count": null,
   "metadata": {
    "collapsed": false
   },
   "outputs": [],
   "source": [
    "full_df"
   ]
  },
  {
   "cell_type": "code",
   "execution_count": null,
   "metadata": {
    "collapsed": true
   },
   "outputs": [],
   "source": []
  }
 ],
 "metadata": {
  "kernelspec": {
   "display_name": "Python [conda root]",
   "language": "python",
   "name": "conda-root-py"
  },
  "language_info": {
   "codemirror_mode": {
    "name": "ipython",
    "version": 2
   },
   "file_extension": ".py",
   "mimetype": "text/x-python",
   "name": "python",
   "nbconvert_exporter": "python",
   "pygments_lexer": "ipython2",
   "version": "2.7.13"
  }
 },
 "nbformat": 4,
 "nbformat_minor": 2
}
