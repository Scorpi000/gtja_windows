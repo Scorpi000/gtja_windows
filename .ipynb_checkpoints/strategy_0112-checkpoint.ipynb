{
 "cells": [
  {
   "cell_type": "code",
   "execution_count": 323,
   "metadata": {
    "collapsed": false
   },
   "outputs": [],
   "source": [
    "#coding: utf-8\n",
    "\n",
    "import numpy as np\n",
    "import pandas as pd\n",
    "import matplotlib.pyplot as plt\n",
    "%matplotlib inline\n",
    "import warnings\n",
    "warnings.filterwarnings(action='ignore')\n",
    "\n",
    "def execute(category):\n",
    "    df=pd.read_csv('/Users/liyuefan/Documents/gtja/%sFI_0112.csv'%category,encoding='gbk')\n",
    "\n",
    "\n",
    "\n",
    "    df['update_date']=pd.to_datetime(df['update_date'])\n",
    "    df['close_yes']=df['close'].shift(1)\n",
    "    df['high_yes']=df['high'].shift(1)\n",
    "    df['low_yes']=df['low'].shift(1)\n",
    "\n",
    "    df['max10']=pd.rolling_max(df['close_yes'],10)\n",
    "    df['max20']=pd.rolling_max(df['close_yes'],20)\n",
    "    df['max30']=pd.rolling_max(df['close_yes'],60)\n",
    "    df['max60']=pd.rolling_max(df['close_yes'],100)\n",
    "    df['max100']=pd.rolling_max(df['close_yes'],200)\n",
    "    df['min10']=pd.rolling_min(df['close_yes'],10)\n",
    "    df['min20']=pd.rolling_min(df['close_yes'],20)\n",
    "    df['min30']=pd.rolling_min(df['close_yes'],60)\n",
    "    df['min60']=pd.rolling_min(df['close_yes'],100)\n",
    "    df['min100']=pd.rolling_min(df['close_yes'],200)\n",
    "\n",
    "    df['close_return_yes']=np.log(df['close_yes'])\n",
    "    df['close_return_yes']=df['close_return_yes'].diff()\n",
    "#     df['volatility_20']=pd.rolling_mean((df['high_yes']-df['low_yes'])/df['low_yes'],20)\n",
    "#     df['volatility_60']=pd.rolling_mean((df['high_yes']-df['low_yes'])/df['low_yes'],60)\n",
    "#     df['volatility_100']=pd.rolling_mean((df['high_yes']-df['low_yes'])/df['low_yes'],100)\n",
    "#     df['volatility_200']=pd.rolling_mean((df['high_yes']-df['low_yes'])/df['low_yes'],200)\n",
    "    df['volatility_20']=pd.rolling_std(df['close_return_yes'],20)\n",
    "    df['volatility_60']=pd.rolling_std(df['close_return_yes'],60)\n",
    "    df['volatility_100']=pd.rolling_std(df['close_return_yes'],100)\n",
    "    df['volatility_200']=pd.rolling_std(df['close_return_yes'],200)\n",
    "\n",
    "\n",
    "    def sig(x1,x2,p):\n",
    "        if p<x1:\n",
    "            return -1\n",
    "        elif p>x2:\n",
    "            return 1\n",
    "        else:\n",
    "            return 0\n",
    "\n",
    "    df['stop_ma10']=map(sig,df['min10'],df['max10'],df['close'])\n",
    "    df['p_ma10']=map(sig,df['min20'],df['max20'],df['close'])\n",
    "    df['p_ma30']=map(sig,df['min30'],df['max30'],df['close'])\n",
    "    df['p_ma60']=map(sig,df['min60'],df['max60'],df['close'])\n",
    "    df['p_ma100']=map(sig,df['min100'],df['max100'],df['close'])\n",
    "\n",
    "\n",
    "    def dir(x):\n",
    "        if x>0:\n",
    "            return 1\n",
    "        elif x<0:\n",
    "            return -1\n",
    "        else:\n",
    "            return 0\n",
    "    df=df.sort('update_date')\n",
    "\n",
    "\n",
    "    df['p_ma10']=df['p_ma10'].fillna(method='ffill')\n",
    "    df['p_ma30']=df['p_ma30'].fillna(method='ffill')\n",
    "    df['p_ma60']=df['p_ma60'].fillna(method='ffill')\n",
    "    df['p_ma100']=df['p_ma100'].fillna(method='ffill')\n",
    "\n",
    "    df=df.dropna(axis=0)\n",
    "\n",
    "    pos_mat=df.loc[:,['p_ma10','p_ma30','p_ma60','p_ma100','volatility_20','volatility_60','volatility_100','volatility_200','stop_ma10']]\n",
    "    pos_mat=pos_mat.as_matrix()\n",
    "\n",
    "    N=pos_mat.shape[0]\n",
    "#     p=np.zeros(N)\n",
    "    p=[np.nan for i in range(N)]\n",
    "    temp_tag=0\n",
    "    for i in range(0,N,1):\n",
    "        if np.isnan(pos_mat[i,3])==True:\n",
    "            p[i]=0\n",
    "        else:\n",
    "            if pos_mat[i,0]>0 and pos_mat[i,8]>=0:\n",
    "                temp_tag=1\n",
    "                dis_20=pos_mat[i,4]/np.mean(pos_mat[:i,4])\n",
    "                dis_60=pos_mat[i,5]/np.mean(pos_mat[:i,5])\n",
    "                dis_100=pos_mat[i,6]/np.mean(pos_mat[:i,6])\n",
    "                dis_200=pos_mat[i,7]/np.mean(pos_mat[:i,7])\n",
    "                p[i]=0.4/dis_20\n",
    "                if pos_mat[i,3]>0:\n",
    "                    p[i]=0.4/dis_20+0.3/dis_60+0.2/dis_100+0.1/dis_200\n",
    "                elif pos_mat[i,2]>0:\n",
    "                    p[i]=0.4/dis_20+0.3/dis_60+0.2/dis_100\n",
    "                elif pos_mat[i,1]>0:\n",
    "                    p[i]=0.4/dis_20+0.3/dis_60\n",
    "\n",
    "            elif pos_mat[i,0]<0 and pos_mat[i,8]<=0:\n",
    "                temp_tag=-1\n",
    "                dis_20=pos_mat[i,4]/np.mean(pos_mat[:i,4])\n",
    "                dis_60=pos_mat[i,5]/np.mean(pos_mat[:i,5])\n",
    "                dis_100=pos_mat[i,6]/np.mean(pos_mat[:i,6])\n",
    "                dis_200=pos_mat[i,7]/np.mean(pos_mat[:i,7])\n",
    "                p[i]=-0.4/dis_20\n",
    "                if pos_mat[i,3]<0:\n",
    "                    p[i]=-0.4/dis_20-0.3/dis_60-0.2/dis_100-0.1/dis_200\n",
    "                elif pos_mat[i,2]<0:\n",
    "                    p[i]=-0.4/dis_20-0.3/dis_60-0.2/dis_100\n",
    "                elif pos_mat[i,1]<0:\n",
    "                    p[i]=-0.4/dis_20-0.3/dis_60\n",
    "\n",
    "#             elif temp_tag>0 and pos_mat[i,8]==-1:\n",
    "#                 temp_tag=0\n",
    "#                 print 'stop'\n",
    "#                 p[i]=0\n",
    "#             elif temp_tag<0 and pos_mat[i,8]==1:\n",
    "#                 temp_tag=0\n",
    "#                 print 'stop'\n",
    "#                 p[i]=0\n",
    "#             else:\n",
    "#                 p[i]=np.nan\n",
    "\n",
    "\n",
    "\n",
    "    df['position']=p\n",
    "    df['position']=df['position'].fillna(method='ffill')\n",
    "\n",
    "    df['close_return']=np.log(df['close'])\n",
    "    df['close_return']=df['close_return'].diff()\n",
    "\n",
    "    df['position']=df['position'].shift(2)\n",
    "\n",
    "\n",
    "    df['daily_return']=df['position']*df['close_return']\n",
    "    \n",
    "    \n",
    "    \n",
    "    close_return=np.array(df['daily_return'])\n",
    "    position=np.array(df['position'])\n",
    "    for i in range(1,len(position)):\n",
    "        if position[i]!=position[i-1]:\n",
    "            close_return[i-1]=close_return[i-1]-1./10000\n",
    "            close_return[i]=close_return[i]-1./10000\n",
    "        else:\n",
    "            pass\n",
    "    df['daily_return']=close_return\n",
    "    \n",
    "    \n",
    "\n",
    "    df['cum_return']=df['daily_return'].cumsum()\n",
    "\n",
    "    df.index=[df['update_date']]\n",
    "    return df"
   ]
  },
  {
   "cell_type": "code",
   "execution_count": 324,
   "metadata": {
    "collapsed": true
   },
   "outputs": [],
   "source": [
    "def portfolio(comp1,comp2):\n",
    "    if type(comp1)==str and type(comp2)==str:\n",
    "        comp1=execute(comp1)\n",
    "        comp2=execute(comp2)\n",
    "    else:\n",
    "        comp1=comp1\n",
    "        comp2=comp2\n",
    "    comp1=comp1.rename(columns={'daily_return':'daily_return_1','close_return':'close_return_1'})\n",
    "    comp2=comp2.rename(columns={'daily_return':'daily_return_2','close_return':'close_return_2'})\n",
    "    t=pd.merge(comp1,comp2,on='update_date',how='inner')\n",
    "\n",
    "    tt=t.loc[:,['update_date','daily_return_1','daily_return_2','close_return_1','close_return_2']]\n",
    "    \n",
    "\n",
    "    tt['portfolio_return']=0.5*tt['daily_return_1']+0.5*tt['daily_return_2']\n",
    "    tt['close_return']=0.5*tt['close_return_1']+0.5*tt['close_return_2']\n",
    "\n",
    "    tt['port_cum_return']=tt['portfolio_return'].cumsum()\n",
    "    tt['port_cummax']=tt['port_cum_return'].cummax()\n",
    "    tt['port_drawdown']=tt['port_cum_return']-tt['port_cummax']\n",
    "    tt['update_date']=pd.to_datetime(tt['update_date'])\n",
    "    return tt"
   ]
  },
  {
   "cell_type": "code",
   "execution_count": 325,
   "metadata": {
    "collapsed": true
   },
   "outputs": [],
   "source": [
    "def port_port(port1,port2):\n",
    "    port1=port1.drop(['daily_return_1','daily_return_2','close_return_1','close_return_2'],axis=1)\n",
    "    port2=port2.drop(['daily_return_1','daily_return_2','close_return_1','close_return_2'],axis=1)\n",
    "    port1=port1.rename(columns={'portfolio_return':'daily_return_1','close_return':'close_return_1'})\n",
    "    port2=port2.rename(columns={'portfolio_return':'daily_return_2','close_return':'close_return_2'})\n",
    "    \n",
    "    t=pd.merge(port1,port2,on='update_date',how='inner')\n",
    "\n",
    "    tt=t.loc[:,['update_date','daily_return_1','daily_return_2','close_return_1','close_return_2']]\n",
    "\n",
    "    \n",
    "    tt['portfolio_return']=0.5*tt['daily_return_1']+0.5*tt['daily_return_2']\n",
    "    tt['close_return']=0.5*tt['close_return_1']+tt['close_return_2']\n",
    "\n",
    "    tt['port_cum_return']=tt['portfolio_return'].cumsum()\n",
    "    tt['port_cummax']=tt['port_cum_return'].cummax()\n",
    "    tt['port_drawdown']=tt['port_cum_return']-tt['port_cummax']\n",
    "    return tt"
   ]
  },
  {
   "cell_type": "code",
   "execution_count": 326,
   "metadata": {
    "collapsed": false
   },
   "outputs": [],
   "source": [
    "def plot_figure(tt):\n",
    "    drawdown_interval_right=np.argmin(tt['port_drawdown'])\n",
    "    drawdown_interval_left=np.argwhere(tt['port_cummax']==tt['port_cummax'][drawdown_interval_right])[0,0]\n",
    "    plt.figure(figsize=(15,10))\n",
    "    plt.plot(tt['update_date'],tt['port_cum_return'],label='cum:return:%.2f'%np.array(tt['port_cum_return'])[-1])\n",
    "    plt.vlines(tt['update_date'][drawdown_interval_left:drawdown_interval_right].values,np.min(tt['port_cum_return']),np.max(tt['port_cum_return']),colors='r',linestyles='dashed',alpha=0.2,label='max_drawdown_interval:%.2f'%np.min(tt['port_drawdown']))\n",
    "    plt.legend()\n",
    "    print 'return/drawdown = ', np.array(tt['port_cum_return'])[-1]/np.abs(np.min(tt['port_drawdown']))"
   ]
  },
  {
   "cell_type": "code",
   "execution_count": 327,
   "metadata": {
    "collapsed": true
   },
   "outputs": [],
   "source": [
    "# df.to_csv('df.csv',encoding='gbk')"
   ]
  },
  {
   "cell_type": "code",
   "execution_count": 328,
   "metadata": {
    "collapsed": false
   },
   "outputs": [],
   "source": [
    "# df.to_csv('df.csv',encoding='gbk')"
   ]
  },
  {
   "cell_type": "code",
   "execution_count": 408,
   "metadata": {
    "collapsed": false
   },
   "outputs": [],
   "source": [
    "from sklearn.decomposition import PCA as PCA\n",
    "def comp_portfolio_pca(asset_pool):\n",
    "    import itertools\n",
    "    import scipy as sp\n",
    "    all_assets=pd.DataFrame(columns=['update_date'])\n",
    "    for a in asset_pool:\n",
    "        tmp=execute(a)\n",
    "        tmp=tmp.loc[:,['update_date','close_return']]\n",
    "        tmp=tmp.rename(columns={'close_return':'%s'%a})\n",
    "        all_assets=pd.merge(all_assets,tmp,on='update_date',how='outer')\n",
    "    all_assets['update_date']=pd.to_datetime(all_assets['update_date'])\n",
    "    all_assets['year']=all_assets['update_date'].apply(lambda x: x.year)\n",
    "    \n",
    "    selected_port_dict={}\n",
    "    for year in pd.unique(all_assets['year']):\n",
    "        tmp=all_assets[all_assets['year']==year]\n",
    "        tmp=tmp.dropna(how='all',axis=1)\n",
    "        col_list=[col for col in tmp.columns if col!='update_date' and col!='year']\n",
    "        corr_dict={}\n",
    "        mat=tmp[col_list]\n",
    "        mat=mat.fillna(0)\n",
    "        mat=mat.as_matrix()\n",
    "        pca=PCA(whiten=True)\n",
    "        pca.fit(mat)\n",
    "        com=pca.components_[0]\n",
    "        com=np.abs(com)\n",
    "        com=list(com)\n",
    "        com1=np.argmax(com)\n",
    "        del com[com1]\n",
    "        com2=np.argmax(com)\n",
    "        del com[com2]\n",
    "        com3=np.argmax(com)\n",
    "        del com[com3]\n",
    "        com4=np.argmax(com)\n",
    "\n",
    "        selected_port_dict[year+1]=[(col_list[com1],col_list[com2]),(col_list[com3],col_list[com4])]\n",
    "        \n",
    "        print year+1, com1,com2,com3,com4\n",
    "    return selected_port_dict\n",
    "    \n",
    "                "
   ]
  },
  {
   "cell_type": "code",
   "execution_count": 409,
   "metadata": {
    "collapsed": false
   },
   "outputs": [],
   "source": [
    "def comp_portfolio(asset_pool):\n",
    "    import itertools\n",
    "    import scipy as sp\n",
    "    all_assets=pd.DataFrame(columns=['update_date'])\n",
    "    for a in asset_pool:\n",
    "        tmp=execute(a)\n",
    "        tmp=tmp.loc[:,['update_date','close_return']]\n",
    "        tmp=tmp.rename(columns={'close_return':'%s'%a})\n",
    "        all_assets=pd.merge(all_assets,tmp,on='update_date',how='outer')\n",
    "    all_assets['update_date']=pd.to_datetime(all_assets['update_date'])\n",
    "    all_assets['year']=all_assets['update_date'].apply(lambda x: x.year)\n",
    "    \n",
    "    selected_port_dict={}\n",
    "    for year in pd.unique(all_assets['year']):\n",
    "        tmp=all_assets[all_assets['year']==year]\n",
    "        tmp=tmp.dropna(how='all',axis=1)\n",
    "        col_list=[col for col in tmp.columns if col!='update_date' and col!='year']\n",
    "        corr_dict={}\n",
    "        for item in itertools.product(col_list,col_list):\n",
    "            if item[0]!=item[1]:\n",
    "                cor_mat=tmp.loc[:,item]\n",
    "                cor_mat=cor_mat.dropna(axis=0)\n",
    "                corr=sp.corrcoef(cor_mat.T)\n",
    "                corr=corr[0,1]\n",
    "                corr_dict[item]=np.abs(corr)\n",
    "            else:\n",
    "                pass\n",
    "        corr_dict_items=filter(lambda x:np.isnan(x[1])==False,corr_dict.items())\n",
    "        selected_port=[item for item in sorted(corr_dict_items, key=lambda d:d[1])]\n",
    "        selected_port_1=selected_port[0]\n",
    "        selected_list=[x for x in selected_port_1[0]]\n",
    "        num_selected=1\n",
    "        for i in range(len(selected_port)):\n",
    "            tmp=selected_port[i][0]\n",
    "            if (tmp[0] not in selected_list or tmp[1] not in selected_list) and num_selected<2:\n",
    "                selected_port_2=selected_port[i]\n",
    "                num_selected+=1\n",
    "            else:\n",
    "                pass\n",
    "        selected_port_dict[year+1]=[selected_port_1,selected_port_2]\n",
    "        \n",
    "        print year+1, selected_port_1, '%.3f'%selected_port_dict[year+1][0][1]\n",
    "        print year+1, selected_port_2, '%.3f'%selected_port_dict[year+1][1][1]\n",
    "    return selected_port_dict\n",
    "    \n",
    "                "
   ]
  },
  {
   "cell_type": "code",
   "execution_count": 410,
   "metadata": {
    "collapsed": true
   },
   "outputs": [],
   "source": [
    "asset_pool=['CU','ZN','PB','AL','NI','I','JM','J','WH','ZC','Y','TA','SR','RU','RM','P','M','C']"
   ]
  },
  {
   "cell_type": "code",
   "execution_count": 411,
   "metadata": {
    "collapsed": false,
    "scrolled": true
   },
   "outputs": [
    {
     "name": "stdout",
     "output_type": "stream",
     "text": [
      "2009 0 5 5 2\n",
      "2010 0 5 0 4\n",
      "2011 1 5 0 3\n",
      "2012 6 0 0 2\n",
      "2013 7 5 6 0\n",
      "2014 8 0 8 4\n",
      "2015 12 5 5 10\n",
      "2016 4 11 9 0\n",
      "2017 5 5 5 10\n",
      "2018 6 6 5 10\n"
     ]
    }
   ],
   "source": [
    "a=comp_portfolio_pca(asset_pool)"
   ]
  },
  {
   "cell_type": "code",
   "execution_count": 414,
   "metadata": {
    "collapsed": false,
    "scrolled": true
   },
   "outputs": [
    {
     "name": "stdout",
     "output_type": "stream",
     "text": [
      "2016\n",
      "(2016, [('I', 'SR'), ('Y', 'CU')])\n",
      "2017\n",
      "(2017, [('I', 'I'), ('I', 'Y')])\n",
      "2018\n",
      "(2018, [('JM', 'JM'), ('I', 'Y')])\n",
      "no data!\n",
      "2009\n",
      "(2009, [('CU', 'SR'), ('SR', 'AL')])\n",
      "2010\n",
      "(2010, [('CU', 'SR'), ('CU', 'TA')])\n",
      "2011\n",
      "(2011, [('ZN', 'SR'), ('CU', 'Y')])\n",
      "2012\n",
      "(2012, [('RU', 'CU'), ('CU', 'AL')])\n",
      "2013\n",
      "(2013, [('RU', 'TA'), ('SR', 'CU')])\n",
      "2014\n",
      "(2014, [('RU', 'CU'), ('RU', 'WH')])\n",
      "2015\n",
      "(2015, [('RU', 'JM'), ('JM', 'TA')])\n"
     ]
    }
   ],
   "source": [
    "mixed_port=pd.DataFrame()\n",
    "for item in a.items():\n",
    "    print item[0]\n",
    "\n",
    "    \n",
    "#####如果取前两对############\n",
    "#     tmp_1=portfolio(item[1][0][0][0],item[1][0][0][1])\n",
    "#     tmp_1['update_date']=pd.to_datetime(tmp_1['update_date'])\n",
    "#     tmp_1=tmp_1[tmp_1['update_date'].apply(lambda x:x.year)==item[0]]\n",
    "#     tmp_2=portfolio(item[1][1][0][0],item[1][1][0][1])\n",
    "#     tmp_2['update_date']=pd.to_datetime(tmp_2['update_date'])\n",
    "#     tmp_2=tmp_2[tmp_2['update_date'].apply(lambda x:x.year)==item[0]]\n",
    "#     tmp=port_port(tmp_1,tmp_2)\n",
    "\n",
    "#####如果只取一对###########\n",
    "#     tmp=portfolio(item[1][0][0][0],item[1][0][0][1])\n",
    "#     tmp['update_date']=pd.to_datetime(tmp['update_date'])\n",
    "#     tmp=tmp[tmp['update_date'].apply(lambda x:x.year)==item[0]]\n",
    "##########################\n",
    "\n",
    "\n",
    "\n",
    "#####PCA_1##################\n",
    "#     print item[1]\n",
    "#     tmp=portfolio(item[1][0][0],item[1][0][1])\n",
    "#     tmp['update_date']=pd.to_datetime(tmp['update_date'])\n",
    "#     tmp=tmp[tmp['update_date'].apply(lambda x:x.year)==item[0]]\n",
    "\n",
    "#########################\n",
    "\n",
    "#######PCA_2################\n",
    "    print item\n",
    "    tmp_1=portfolio(item[1][0][0],item[1][0][1])\n",
    "    tmp_1['update_date']=pd.to_datetime(tmp_1['update_date'])\n",
    "    tmp_1=tmp_1[tmp_1['update_date'].apply(lambda x:x.year)==item[0]]\n",
    "    tmp_2=portfolio(item[1][1][0],item[1][1][1])\n",
    "    tmp_2['update_date']=pd.to_datetime(tmp_2['update_date'])\n",
    "    tmp_2=tmp_2[tmp_2['update_date'].apply(lambda x:x.year)==item[0]]\n",
    "    tmp=port_port(tmp_1,tmp_2)\n",
    "############################    \n",
    "    \n",
    "\n",
    "\n",
    "    \n",
    "    if len(tmp)>0:\n",
    "        tmp['update_date']=pd.to_datetime(tmp['update_date'])\n",
    "        tmp=tmp[tmp['update_date'].apply(lambda x:x.year)==item[0]]\n",
    "        tmp=tmp.loc[:,['update_date','portfolio_return','close_return']]\n",
    "        mixed_port=mixed_port.append(tmp)\n",
    "    else:\n",
    "        print 'no data!'\n",
    "        pass\n",
    "    "
   ]
  },
  {
   "cell_type": "code",
   "execution_count": 415,
   "metadata": {
    "collapsed": false,
    "scrolled": true
   },
   "outputs": [],
   "source": [
    "mixed_port=mixed_port.sort('update_date')"
   ]
  },
  {
   "cell_type": "code",
   "execution_count": 416,
   "metadata": {
    "collapsed": false,
    "scrolled": true
   },
   "outputs": [],
   "source": [
    "mixed_port['cum_return']=mixed_port['portfolio_return'].cumsum()\n",
    "mixed_port['benchmark']=mixed_port['close_return'].cumsum()\n",
    "mixed_port['cum_max']=mixed_port['cum_return'].cummax()\n",
    "mixed_port['drawdown']=mixed_port['cum_return']-mixed_port['cum_max']"
   ]
  },
  {
   "cell_type": "code",
   "execution_count": 417,
   "metadata": {
    "collapsed": false
   },
   "outputs": [
    {
     "data": {
      "text/plain": [
       "-0.27338691005392451"
      ]
     },
     "execution_count": 417,
     "metadata": {},
     "output_type": "execute_result"
    }
   ],
   "source": [
    "np.min(mixed_port['drawdown'])"
   ]
  },
  {
   "cell_type": "code",
   "execution_count": 418,
   "metadata": {
    "collapsed": false
   },
   "outputs": [
    {
     "data": {
      "text/plain": [
       "<matplotlib.legend.Legend at 0x11652d590>"
      ]
     },
     "execution_count": 418,
     "metadata": {},
     "output_type": "execute_result"
    },
    {
     "data": {
      "image/png": "[encoded data removed]",
      "text/plain": [
       "<matplotlib.figure.Figure at 0x115291250>"
      ]
     },
     "metadata": {},
     "output_type": "display_data"
    }
   ],
   "source": [
    "plt.figure(figsize=(15,10))\n",
    "plt.plot(mixed_port['update_date'],mixed_port['cum_return'])\n",
    "plt.plot(mixed_port['update_date'],mixed_port['benchmark'],label='benchmark')\n",
    "plt.legend()"
   ]
  },
  {
   "cell_type": "code",
   "execution_count": 419,
   "metadata": {
    "collapsed": false,
    "scrolled": true
   },
   "outputs": [],
   "source": [
    "mixed_port['year']=mixed_port['update_date'].apply(lambda x: x.year)\n",
    "each_year_return=mixed_port.groupby(['year']).portfolio_return.sum()"
   ]
  },
  {
   "cell_type": "code",
   "execution_count": 420,
   "metadata": {
    "collapsed": false
   },
   "outputs": [
    {
     "data": {
      "text/plain": [
       "year\n",
       "2009    0.432411\n",
       "2010    0.109826\n",
       "2011   -0.066276\n",
       "2012   -0.017287\n",
       "2013    0.077102\n",
       "2014    0.074784\n",
       "2015    0.055530\n",
       "2016    0.060843\n",
       "2017   -0.018569\n",
       "Name: portfolio_return, dtype: float64"
      ]
     },
     "execution_count": 420,
     "metadata": {},
     "output_type": "execute_result"
    }
   ],
   "source": [
    "each_year_return"
   ]
  },
  {
   "cell_type": "code",
   "execution_count": 421,
   "metadata": {
    "collapsed": false,
    "scrolled": true
   },
   "outputs": [
    {
     "name": "stdout",
     "output_type": "stream",
     "text": [
      "2009 2.69476122125\n",
      "2010 0.690085854751\n",
      "2011 -0.413030252471\n",
      "2012 -0.108175196045\n",
      "2013 0.492610477211\n",
      "2014 0.464144515513\n",
      "2015 0.346062643652\n",
      "2016 0.379171841502\n",
      "2017 -3.13738966464\n"
     ]
    }
   ],
   "source": [
    "for i,j in mixed_port.groupby(['year']):\n",
    "    sharpe=(np.mean(j['portfolio_return'])*252)/(np.std(mixed_port['portfolio_return'])*np.sqrt(252))\n",
    "    print i, sharpe"
   ]
  },
  {
   "cell_type": "markdown",
   "metadata": {},
   "source": [
    "夏普"
   ]
  },
  {
   "cell_type": "code",
   "execution_count": 422,
   "metadata": {
    "collapsed": false
   },
   "outputs": [
    {
     "data": {
      "text/plain": [
       "0.55152788933263797"
      ]
     },
     "execution_count": 422,
     "metadata": {},
     "output_type": "execute_result"
    }
   ],
   "source": [
    "(np.mean(mixed_port['portfolio_return'])*252)/(np.std(mixed_port['portfolio_return'])*np.sqrt(252))"
   ]
  },
  {
   "cell_type": "code",
   "execution_count": 348,
   "metadata": {
    "collapsed": false
   },
   "outputs": [],
   "source": []
  },
  {
   "cell_type": "code",
   "execution_count": null,
   "metadata": {
    "collapsed": true
   },
   "outputs": [],
   "source": []
  }
 ],
 "metadata": {
  "kernelspec": {
   "display_name": "Python [Root]",
   "language": "python",
   "name": "Python [Root]"
  },
  "language_info": {
   "codemirror_mode": {
    "name": "ipython",
    "version": 2
   },
   "file_extension": ".py",
   "mimetype": "text/x-python",
   "name": "python",
   "nbconvert_exporter": "python",
   "pygments_lexer": "ipython2",
   "version": "2.7.13"
  }
 },
 "nbformat": 4,
 "nbformat_minor": 0
}
