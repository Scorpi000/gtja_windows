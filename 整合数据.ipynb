{
 "cells": [
  {
   "cell_type": "code",
   "execution_count": 43,
   "metadata": {
    "collapsed": true
   },
   "outputs": [],
   "source": [
    "#coding: utf-8"
   ]
  },
  {
   "cell_type": "code",
   "execution_count": 44,
   "metadata": {
    "collapsed": true
   },
   "outputs": [],
   "source": [
    "import os\n",
    "import pandas as pd\n"
   ]
  },
  {
   "cell_type": "code",
   "execution_count": 45,
   "metadata": {
    "collapsed": true
   },
   "outputs": [],
   "source": [
    "fpath=u'/Users/liyuefan/Downloads/新建文件夹'"
   ]
  },
  {
   "cell_type": "code",
   "execution_count": 46,
   "metadata": {
    "collapsed": false
   },
   "outputs": [],
   "source": [
    "files=os.listdir(fpath)"
   ]
  },
  {
   "cell_type": "code",
   "execution_count": 47,
   "metadata": {
    "collapsed": false,
    "scrolled": true
   },
   "outputs": [
    {
     "name": "stdout",
     "output_type": "stream",
     "text": [
      "/Users/liyuefan/Downloads/新建文件夹/大宗商品业务组自营盈亏台帐(非彭博) - 20160914.xlsx\n",
      "/Users/liyuefan/Downloads/新建文件夹/大宗商品业务组自营盈亏台帐(非彭博) - 20160919.xlsx\n",
      "/Users/liyuefan/Downloads/新建文件夹/大宗商品业务组自营盈亏台帐(非彭博) - 20160920.xlsx\n",
      "/Users/liyuefan/Downloads/新建文件夹/大宗商品业务组自营盈亏台帐(非彭博) - 20160921.xlsx\n",
      "/Users/liyuefan/Downloads/新建文件夹/大宗商品业务组自营盈亏台帐(非彭博) - 20160922.xlsx\n",
      "/Users/liyuefan/Downloads/新建文件夹/大宗商品业务组自营盈亏台帐(非彭博) - 20160923.xlsx\n",
      "/Users/liyuefan/Downloads/新建文件夹/大宗商品业务组自营盈亏台帐(非彭博) - 20160926.xlsx\n",
      "/Users/liyuefan/Downloads/新建文件夹/大宗商品业务组自营盈亏台帐(非彭博) - 20160927.xlsx\n",
      "/Users/liyuefan/Downloads/新建文件夹/大宗商品业务组自营盈亏台帐(非彭博) - 20160928.xlsx\n",
      "/Users/liyuefan/Downloads/新建文件夹/大宗商品业务组自营盈亏台帐(非彭博) - 20160929.xlsx\n",
      "/Users/liyuefan/Downloads/新建文件夹/大宗商品业务组自营盈亏台帐(非彭博) - 20160930.xlsx\n",
      "/Users/liyuefan/Downloads/新建文件夹/大宗商品业务组自营盈亏台帐(非彭博) - 20161010.xlsx\n",
      "/Users/liyuefan/Downloads/新建文件夹/大宗商品业务组自营盈亏台帐(非彭博) - 20161011.xlsx\n",
      "/Users/liyuefan/Downloads/新建文件夹/大宗商品业务组自营盈亏台帐(非彭博) - 20161012.xlsx\n",
      "/Users/liyuefan/Downloads/新建文件夹/大宗商品业务组自营盈亏台帐(非彭博) - 20161013.xlsx\n",
      "/Users/liyuefan/Downloads/新建文件夹/大宗商品业务组自营盈亏台帐(非彭博) - 20161014.xlsx\n",
      "/Users/liyuefan/Downloads/新建文件夹/大宗商品业务组自营盈亏台帐(非彭博) - 20161018.xlsx\n",
      "/Users/liyuefan/Downloads/新建文件夹/大宗商品业务组自营盈亏台帐(非彭博) - 20161019.xlsx\n",
      "/Users/liyuefan/Downloads/新建文件夹/大宗商品业务组自营盈亏台帐(非彭博) - 20161020.xlsx\n",
      "/Users/liyuefan/Downloads/新建文件夹/大宗商品业务组自营盈亏台帐(非彭博) - 20161021.xlsx\n",
      "/Users/liyuefan/Downloads/新建文件夹/大宗商品业务组自营盈亏台帐(非彭博) - 20161024.xlsx\n",
      "/Users/liyuefan/Downloads/新建文件夹/大宗商品业务组自营盈亏台帐(非彭博) - 20161025.xlsx\n",
      "/Users/liyuefan/Downloads/新建文件夹/大宗商品业务组自营盈亏台帐(非彭博) - 20161026.xlsx\n",
      "/Users/liyuefan/Downloads/新建文件夹/大宗商品业务组自营盈亏台帐(非彭博) - 20161027.xlsx\n",
      "/Users/liyuefan/Downloads/新建文件夹/大宗商品业务组自营盈亏台帐(非彭博) - 20161028.xlsx\n",
      "/Users/liyuefan/Downloads/新建文件夹/大宗商品业务组自营盈亏台帐(非彭博) - 20161031.xlsx\n",
      "/Users/liyuefan/Downloads/新建文件夹/大宗商品业务组自营盈亏台帐(非彭博) - 20161101.xlsx\n",
      "/Users/liyuefan/Downloads/新建文件夹/大宗商品业务组自营盈亏台帐(非彭博) - 20161102.xlsx\n",
      "/Users/liyuefan/Downloads/新建文件夹/大宗商品业务组自营盈亏台帐(非彭博) - 20161103.xlsx\n",
      "/Users/liyuefan/Downloads/新建文件夹/大宗商品业务组自营盈亏台帐(非彭博) - 20161104.xlsx\n",
      "/Users/liyuefan/Downloads/新建文件夹/大宗商品业务组自营盈亏台帐(非彭博) - 20161107.xlsx\n",
      "/Users/liyuefan/Downloads/新建文件夹/大宗商品业务组自营盈亏台帐(非彭博) - 20161108.xlsx\n",
      "/Users/liyuefan/Downloads/新建文件夹/大宗商品业务组自营盈亏台帐(非彭博) - 20161109.xlsx\n",
      "/Users/liyuefan/Downloads/新建文件夹/大宗商品业务组自营盈亏台帐(非彭博) - 20161110.xlsx\n",
      "/Users/liyuefan/Downloads/新建文件夹/大宗商品业务组自营盈亏台帐(非彭博) - 20161111.xlsx\n",
      "/Users/liyuefan/Downloads/新建文件夹/大宗商品业务组自营盈亏台帐(非彭博) - 20161114.xlsx\n",
      "/Users/liyuefan/Downloads/新建文件夹/大宗商品业务组自营盈亏台帐(非彭博) - 20161115.xlsx\n",
      "/Users/liyuefan/Downloads/新建文件夹/大宗商品业务组自营盈亏台帐(非彭博) - 20161116.xlsx\n",
      "/Users/liyuefan/Downloads/新建文件夹/大宗商品业务组自营盈亏台帐(非彭博) - 20161117.xlsx\n",
      "/Users/liyuefan/Downloads/新建文件夹/大宗商品业务组自营盈亏台帐(非彭博) - 20161118.xlsx\n",
      "/Users/liyuefan/Downloads/新建文件夹/大宗商品业务组自营盈亏台帐(非彭博) - 20161121.xlsx\n",
      "/Users/liyuefan/Downloads/新建文件夹/大宗商品业务组自营盈亏台帐(非彭博) - 20161122.xlsx\n",
      "/Users/liyuefan/Downloads/新建文件夹/大宗商品业务组自营盈亏台帐(非彭博) - 20161123.xlsx\n",
      "/Users/liyuefan/Downloads/新建文件夹/大宗商品业务组自营盈亏台帐(非彭博) - 20161124.xlsx\n",
      "/Users/liyuefan/Downloads/新建文件夹/大宗商品业务组自营盈亏台帐(非彭博) - 20161125.xlsx\n",
      "/Users/liyuefan/Downloads/新建文件夹/大宗商品业务组自营盈亏台帐(非彭博) - 20161128.xlsx\n",
      "/Users/liyuefan/Downloads/新建文件夹/大宗商品业务组自营盈亏台帐(非彭博) - 20161129.xlsx\n",
      "/Users/liyuefan/Downloads/新建文件夹/大宗商品业务组自营盈亏台帐(非彭博) - 20161130.xlsx\n",
      "/Users/liyuefan/Downloads/新建文件夹/大宗商品业务组自营盈亏台帐(非彭博) - 20161201.xlsx\n",
      "/Users/liyuefan/Downloads/新建文件夹/大宗商品业务组自营盈亏台帐(非彭博) - 20161202.xlsx\n",
      "/Users/liyuefan/Downloads/新建文件夹/大宗商品业务组自营盈亏台帐(非彭博) - 20161205.xlsx\n",
      "/Users/liyuefan/Downloads/新建文件夹/大宗商品业务组自营盈亏台帐(非彭博) - 20161206.xlsx\n",
      "/Users/liyuefan/Downloads/新建文件夹/大宗商品业务组自营盈亏台帐(非彭博) - 20161207.xlsx\n",
      "/Users/liyuefan/Downloads/新建文件夹/大宗商品业务组自营盈亏台帐(非彭博) - 20161208.xlsx\n",
      "/Users/liyuefan/Downloads/新建文件夹/大宗商品业务组自营盈亏台帐(非彭博) - 20161209.xlsx\n",
      "/Users/liyuefan/Downloads/新建文件夹/大宗商品业务组自营盈亏台帐(非彭博) - 20161212.xlsx\n",
      "/Users/liyuefan/Downloads/新建文件夹/大宗商品业务组自营盈亏台帐(非彭博) - 20161213.xlsx\n",
      "/Users/liyuefan/Downloads/新建文件夹/大宗商品业务组自营盈亏台帐(非彭博) - 20161214.xlsx\n",
      "/Users/liyuefan/Downloads/新建文件夹/大宗商品业务组自营盈亏台帐(非彭博) - 20161215.xlsx\n",
      "/Users/liyuefan/Downloads/新建文件夹/大宗商品业务组自营盈亏台帐(非彭博) - 20161216.xlsx\n",
      "/Users/liyuefan/Downloads/新建文件夹/大宗商品业务组自营盈亏台帐(非彭博) - 20161219.xlsx\n",
      "/Users/liyuefan/Downloads/新建文件夹/大宗商品业务组自营盈亏台帐(非彭博) - 20161220.xlsx\n",
      "/Users/liyuefan/Downloads/新建文件夹/大宗商品业务组自营盈亏台帐(非彭博) - 20161221.xlsx\n",
      "/Users/liyuefan/Downloads/新建文件夹/大宗商品业务组自营盈亏台帐(非彭博) - 20161222.xlsx\n",
      "/Users/liyuefan/Downloads/新建文件夹/大宗商品业务组自营盈亏台帐(非彭博) - 20161223.xlsx\n",
      "/Users/liyuefan/Downloads/新建文件夹/大宗商品业务组自营盈亏台帐(非彭博) - 20161226.xlsx\n",
      "/Users/liyuefan/Downloads/新建文件夹/大宗商品业务组自营盈亏台帐(非彭博) - 20161227.xlsx\n",
      "/Users/liyuefan/Downloads/新建文件夹/大宗商品业务组自营盈亏台帐(非彭博) - 20161228.xlsx\n",
      "/Users/liyuefan/Downloads/新建文件夹/大宗商品业务组自营盈亏台帐(非彭博) - 20161229.xlsx\n",
      "/Users/liyuefan/Downloads/新建文件夹/大宗商品业务组自营盈亏台帐(非彭博) - 20161230.xlsx\n"
     ]
    }
   ],
   "source": [
    "f_total=pd.DataFrame()\n",
    "for f in files:\n",
    "    p=fpath+'/'+f\n",
    "    try:\n",
    "        df=pd.read_excel(p,sheetname=u'流动性管理',header=2,thousands=',')\n",
    "        df[u'源文件']=p[-13:-5]\n",
    "        f_total=f_total.append(df)\n",
    "        print p\n",
    "\n",
    "\n",
    "    except:\n",
    "        pass\n",
    "    "
   ]
  },
  {
   "cell_type": "code",
   "execution_count": 48,
   "metadata": {
    "collapsed": false,
    "scrolled": true
   },
   "outputs": [],
   "source": [
    "f_total=f_total.dropna(axis=0)"
   ]
  },
  {
   "cell_type": "code",
   "execution_count": 49,
   "metadata": {
    "collapsed": false
   },
   "outputs": [],
   "source": [
    "f_total.reset_index(inplace=True)"
   ]
  },
  {
   "cell_type": "code",
   "execution_count": 50,
   "metadata": {
    "collapsed": false
   },
   "outputs": [],
   "source": [
    "f_total=f_total.drop('index',axis=1)"
   ]
  },
  {
   "cell_type": "code",
   "execution_count": 51,
   "metadata": {
    "collapsed": false
   },
   "outputs": [],
   "source": [
    "f_total[u'借入日期']=pd.to_datetime(f_total[u'借入日期'])\n",
    "f_total[u'还款日期']=pd.to_datetime(f_total[u'还款日期'])"
   ]
  },
  {
   "cell_type": "code",
   "execution_count": 53,
   "metadata": {
    "collapsed": true
   },
   "outputs": [],
   "source": [
    "f_total=f_total.drop_duplicates(subset=[u'借入日期',u'还款日期',u'金额规模',u'借出方',u'借入方'],keep='first')"
   ]
  },
  {
   "cell_type": "code",
   "execution_count": 56,
   "metadata": {
    "collapsed": true
   },
   "outputs": [],
   "source": [
    "f_total.to_csv(u'/Users/liyuefan/Downloads/新建文件夹/流动性管理.csv',encoding='gbk',index=False)"
   ]
  },
  {
   "cell_type": "code",
   "execution_count": null,
   "metadata": {
    "collapsed": true
   },
   "outputs": [],
   "source": []
  }
 ],
 "metadata": {
  "kernelspec": {
   "display_name": "Python [Root]",
   "language": "python",
   "name": "Python [Root]"
  },
  "language_info": {
   "codemirror_mode": {
    "name": "ipython",
    "version": 2
   },
   "file_extension": ".py",
   "mimetype": "text/x-python",
   "name": "python",
   "nbconvert_exporter": "python",
   "pygments_lexer": "ipython2",
   "version": "2.7.12"
  }
 },
 "nbformat": 4,
 "nbformat_minor": 0
}
