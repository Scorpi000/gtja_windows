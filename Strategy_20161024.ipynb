{
 "cells": [
  {
   "cell_type": "code",
   "execution_count": 262,
   "metadata": {
    "collapsed": true
   },
   "outputs": [],
   "source": [
    "#coding:utf-8"
   ]
  },
  {
   "cell_type": "code",
   "execution_count": 263,
   "metadata": {
    "collapsed": true
   },
   "outputs": [],
   "source": [
    "import pandas as pd\n",
    "import numpy as np\n",
    "import matplotlib.pyplot as plt\n",
    "%matplotlib inline\n",
    "from WindPy import *\n",
    "import copy"
   ]
  },
  {
   "cell_type": "code",
   "execution_count": 264,
   "metadata": {
    "collapsed": false
   },
   "outputs": [
    {
     "name": "stdout",
     "output_type": "stream",
     "text": [
      "Welcome to use Wind Quant API for Python (WindPy)!\n",
      "You can use w.menu to help yourself to create commands(WSD,WSS,WST,WSI,WSQ,...)!\n",
      "\n",
      "COPYRIGHT (C) 2016 WIND HONGHUI INFORMATION & TECHKNOLEWDGE CO., LTD. ALL RIGHTS RESERVED.\n",
      "IN NO CIRCUMSTANCE SHALL WIND BE RESPONSIBLE FOR ANY DAMAGES OR LOSSES CAUSED BY USING WIND QUANT API FOR Python.\n"
     ]
    },
    {
     "name": "stderr",
     "output_type": "stream",
     "text": [
      "C:\\Anaconda\\lib\\site-packages\\ipykernel\\__main__.py:12: FutureWarning: sort(columns=....) is deprecated, use sort_values(by=.....)\n"
     ]
    }
   ],
   "source": [
    "w.start()\n",
    "a=w.wsi(\"NI1701.SHF\", \"pct_chg,oi,open,high,low,volume,close\", \"2013-01-01 00:00:00\", \"2016-10-20 23:59:59\", \"\")\n",
    "data=pd.DataFrame()\n",
    "data['time']=a.Times\n",
    "for i in range(len(a.Fields)):\n",
    "\n",
    "    data[a.Fields[i]]=a.Data[i]\n",
    "w.stop()\n",
    "data['time']=pd.to_datetime(data['time'])\n",
    "\n",
    "data['Date']=data['time'].apply(lambda x:str(x.date()) if x.hour<=17 else np.nan)\n",
    "data=data.sort(['time'])\n",
    "data['Date']=data['Date'].fillna(method='bfill')\n",
    "data['Date']=pd.to_datetime(data['Date'])\n",
    "data=data.dropna(subset=['Date','position','open','volume','close'])"
   ]
  },
  {
   "cell_type": "code",
   "execution_count": 265,
   "metadata": {
    "collapsed": false
   },
   "outputs": [],
   "source": [
    "Ni_data=pd.read_csv('C:\\\\Users\\\\liyuefanxxl\\\\Documents\\\\gtja\\\\SHFE_Crawler_Project\\\\all_data.csv',encoding='gbk')"
   ]
  },
  {
   "cell_type": "code",
   "execution_count": 266,
   "metadata": {
    "collapsed": false,
    "scrolled": true
   },
   "outputs": [],
   "source": [
    "Ni_data=Ni_data.drop('12',axis=1)"
   ]
  },
  {
   "cell_type": "code",
   "execution_count": 267,
   "metadata": {
    "collapsed": false,
    "scrolled": true
   },
   "outputs": [],
   "source": [
    "Ni_data=Ni_data.drop_duplicates()"
   ]
  },
  {
   "cell_type": "code",
   "execution_count": 268,
   "metadata": {
    "collapsed": false
   },
   "outputs": [],
   "source": [
    "Ni_data['update_date']=pd.to_datetime(Ni_data['update_date'])\n",
    "\n",
    "Ni_data_1701=Ni_data[Ni_data['name']=='ni1701']\n",
    "\n",
    "Ni_sum_data=pd.DataFrame()\n",
    "\n",
    "Ni_sum_data['buy_chg']=Ni_data_1701.groupby('update_date').hold_vol_buy_chg.sum()\n",
    "Ni_sum_data['sell_chg']=Ni_data_1701.groupby('update_date').hold_vol_sell_chg.sum()\n",
    "\n",
    "Ni_sum_data=Ni_sum_data.reset_index()\n",
    "\n",
    "Ni_sum_data['update_date']=Ni_sum_data['update_date'].apply(lambda x: x+np.timedelta64(1,\"D\"))\n",
    "\n",
    "Ni_sum_data.index=[Ni_sum_data['update_date']]\n",
    "\n",
    "Ni_sum_data=Ni_sum_data.drop('update_date',axis=1)\n",
    "\n",
    "Ni_sum_data['buy_dir']=Ni_sum_data['buy_chg'].apply(lambda x:1 if x>0 else -1)\n",
    "Ni_sum_data['sell_dir']=Ni_sum_data['sell_chg'].apply(lambda x:-1 if x<0 else 1)\n",
    "\n",
    "Ni_sum_data['signal']=Ni_sum_data['buy_dir']-Ni_sum_data['sell_dir']\n",
    "\n",
    "Ni_sum_data_filtered=Ni_sum_data[Ni_sum_data['signal']!=0]\n",
    "\n",
    "Ni_sum_data_filtered['signal']=Ni_sum_data_filtered['signal']/2"
   ]
  },
  {
   "cell_type": "code",
   "execution_count": 280,
   "metadata": {
    "collapsed": false,
    "scrolled": true
   },
   "outputs": [
    {
     "data": {
      "text/html": [
       "<div>\n",
       "<table border=\"1\" class=\"dataframe\">\n",
       "  <thead>\n",
       "    <tr style=\"text-align: right;\">\n",
       "      <th></th>\n",
       "      <th>buy_chg</th>\n",
       "      <th>sell_chg</th>\n",
       "      <th>buy_dir</th>\n",
       "      <th>sell_dir</th>\n",
       "      <th>signal</th>\n",
       "    </tr>\n",
       "    <tr>\n",
       "      <th>update_date</th>\n",
       "      <th></th>\n",
       "      <th></th>\n",
       "      <th></th>\n",
       "      <th></th>\n",
       "      <th></th>\n",
       "    </tr>\n",
       "  </thead>\n",
       "  <tbody>\n",
       "    <tr>\n",
       "      <th>2016-05-04</th>\n",
       "      <td>-402.0</td>\n",
       "      <td>114.0</td>\n",
       "      <td>-1</td>\n",
       "      <td>1</td>\n",
       "      <td>-1.0</td>\n",
       "    </tr>\n",
       "    <tr>\n",
       "      <th>2016-05-18</th>\n",
       "      <td>-61.0</td>\n",
       "      <td>184.0</td>\n",
       "      <td>-1</td>\n",
       "      <td>1</td>\n",
       "      <td>-1.0</td>\n",
       "    </tr>\n",
       "    <tr>\n",
       "      <th>2016-05-19</th>\n",
       "      <td>-16.0</td>\n",
       "      <td>219.0</td>\n",
       "      <td>-1</td>\n",
       "      <td>1</td>\n",
       "      <td>-1.0</td>\n",
       "    </tr>\n",
       "    <tr>\n",
       "      <th>2016-05-21</th>\n",
       "      <td>-65.0</td>\n",
       "      <td>256.0</td>\n",
       "      <td>-1</td>\n",
       "      <td>1</td>\n",
       "      <td>-1.0</td>\n",
       "    </tr>\n",
       "    <tr>\n",
       "      <th>2016-05-25</th>\n",
       "      <td>-82.0</td>\n",
       "      <td>212.0</td>\n",
       "      <td>-1</td>\n",
       "      <td>1</td>\n",
       "      <td>-1.0</td>\n",
       "    </tr>\n",
       "    <tr>\n",
       "      <th>2016-06-01</th>\n",
       "      <td>-321.0</td>\n",
       "      <td>604.0</td>\n",
       "      <td>-1</td>\n",
       "      <td>1</td>\n",
       "      <td>-1.0</td>\n",
       "    </tr>\n",
       "    <tr>\n",
       "      <th>2016-06-15</th>\n",
       "      <td>-61.0</td>\n",
       "      <td>482.0</td>\n",
       "      <td>-1</td>\n",
       "      <td>1</td>\n",
       "      <td>-1.0</td>\n",
       "    </tr>\n",
       "    <tr>\n",
       "      <th>2016-06-18</th>\n",
       "      <td>395.0</td>\n",
       "      <td>-7.0</td>\n",
       "      <td>1</td>\n",
       "      <td>-1</td>\n",
       "      <td>1.0</td>\n",
       "    </tr>\n",
       "    <tr>\n",
       "      <th>2016-07-07</th>\n",
       "      <td>1549.0</td>\n",
       "      <td>-3769.0</td>\n",
       "      <td>1</td>\n",
       "      <td>-1</td>\n",
       "      <td>1.0</td>\n",
       "    </tr>\n",
       "    <tr>\n",
       "      <th>2016-07-09</th>\n",
       "      <td>-1326.0</td>\n",
       "      <td>169.0</td>\n",
       "      <td>-1</td>\n",
       "      <td>1</td>\n",
       "      <td>-1.0</td>\n",
       "    </tr>\n",
       "    <tr>\n",
       "      <th>2016-07-23</th>\n",
       "      <td>-1304.0</td>\n",
       "      <td>5776.0</td>\n",
       "      <td>-1</td>\n",
       "      <td>1</td>\n",
       "      <td>-1.0</td>\n",
       "    </tr>\n",
       "    <tr>\n",
       "      <th>2016-07-27</th>\n",
       "      <td>-532.0</td>\n",
       "      <td>2224.0</td>\n",
       "      <td>-1</td>\n",
       "      <td>1</td>\n",
       "      <td>-1.0</td>\n",
       "    </tr>\n",
       "    <tr>\n",
       "      <th>2016-08-12</th>\n",
       "      <td>-1730.0</td>\n",
       "      <td>6893.0</td>\n",
       "      <td>-1</td>\n",
       "      <td>1</td>\n",
       "      <td>-1.0</td>\n",
       "    </tr>\n",
       "    <tr>\n",
       "      <th>2016-08-17</th>\n",
       "      <td>1633.0</td>\n",
       "      <td>-201.0</td>\n",
       "      <td>1</td>\n",
       "      <td>-1</td>\n",
       "      <td>1.0</td>\n",
       "    </tr>\n",
       "    <tr>\n",
       "      <th>2016-08-20</th>\n",
       "      <td>2490.0</td>\n",
       "      <td>-167.0</td>\n",
       "      <td>1</td>\n",
       "      <td>-1</td>\n",
       "      <td>1.0</td>\n",
       "    </tr>\n",
       "    <tr>\n",
       "      <th>2016-09-01</th>\n",
       "      <td>291.0</td>\n",
       "      <td>-1215.0</td>\n",
       "      <td>1</td>\n",
       "      <td>-1</td>\n",
       "      <td>1.0</td>\n",
       "    </tr>\n",
       "    <tr>\n",
       "      <th>2016-09-03</th>\n",
       "      <td>-986.0</td>\n",
       "      <td>2079.0</td>\n",
       "      <td>-1</td>\n",
       "      <td>1</td>\n",
       "      <td>-1.0</td>\n",
       "    </tr>\n",
       "    <tr>\n",
       "      <th>2016-09-07</th>\n",
       "      <td>-2549.0</td>\n",
       "      <td>2783.0</td>\n",
       "      <td>-1</td>\n",
       "      <td>1</td>\n",
       "      <td>-1.0</td>\n",
       "    </tr>\n",
       "    <tr>\n",
       "      <th>2016-09-21</th>\n",
       "      <td>5224.0</td>\n",
       "      <td>-7296.0</td>\n",
       "      <td>1</td>\n",
       "      <td>-1</td>\n",
       "      <td>1.0</td>\n",
       "    </tr>\n",
       "    <tr>\n",
       "      <th>2016-09-22</th>\n",
       "      <td>-3799.0</td>\n",
       "      <td>212.0</td>\n",
       "      <td>-1</td>\n",
       "      <td>1</td>\n",
       "      <td>-1.0</td>\n",
       "    </tr>\n",
       "    <tr>\n",
       "      <th>2016-09-24</th>\n",
       "      <td>8548.0</td>\n",
       "      <td>-854.0</td>\n",
       "      <td>1</td>\n",
       "      <td>-1</td>\n",
       "      <td>1.0</td>\n",
       "    </tr>\n",
       "    <tr>\n",
       "      <th>2016-10-21</th>\n",
       "      <td>758.0</td>\n",
       "      <td>-3482.0</td>\n",
       "      <td>1</td>\n",
       "      <td>-1</td>\n",
       "      <td>1.0</td>\n",
       "    </tr>\n",
       "  </tbody>\n",
       "</table>\n",
       "</div>"
      ],
      "text/plain": [
       "             buy_chg  sell_chg  buy_dir  sell_dir  signal\n",
       "update_date                                              \n",
       "2016-05-04    -402.0     114.0       -1         1    -1.0\n",
       "2016-05-18     -61.0     184.0       -1         1    -1.0\n",
       "2016-05-19     -16.0     219.0       -1         1    -1.0\n",
       "2016-05-21     -65.0     256.0       -1         1    -1.0\n",
       "2016-05-25     -82.0     212.0       -1         1    -1.0\n",
       "2016-06-01    -321.0     604.0       -1         1    -1.0\n",
       "2016-06-15     -61.0     482.0       -1         1    -1.0\n",
       "2016-06-18     395.0      -7.0        1        -1     1.0\n",
       "2016-07-07    1549.0   -3769.0        1        -1     1.0\n",
       "2016-07-09   -1326.0     169.0       -1         1    -1.0\n",
       "2016-07-23   -1304.0    5776.0       -1         1    -1.0\n",
       "2016-07-27    -532.0    2224.0       -1         1    -1.0\n",
       "2016-08-12   -1730.0    6893.0       -1         1    -1.0\n",
       "2016-08-17    1633.0    -201.0        1        -1     1.0\n",
       "2016-08-20    2490.0    -167.0        1        -1     1.0\n",
       "2016-09-01     291.0   -1215.0        1        -1     1.0\n",
       "2016-09-03    -986.0    2079.0       -1         1    -1.0\n",
       "2016-09-07   -2549.0    2783.0       -1         1    -1.0\n",
       "2016-09-21    5224.0   -7296.0        1        -1     1.0\n",
       "2016-09-22   -3799.0     212.0       -1         1    -1.0\n",
       "2016-09-24    8548.0    -854.0        1        -1     1.0\n",
       "2016-10-21     758.0   -3482.0        1        -1     1.0"
      ]
     },
     "execution_count": 280,
     "metadata": {},
     "output_type": "execute_result"
    }
   ],
   "source": [
    "Ni_sum_data_filtered"
   ]
  },
  {
   "cell_type": "code",
   "execution_count": 281,
   "metadata": {
    "collapsed": false,
    "scrolled": true
   },
   "outputs": [
    {
     "name": "stderr",
     "output_type": "stream",
     "text": [
      "C:\\Anaconda\\lib\\site-packages\\ipykernel\\__main__.py:4: FutureWarning: sort(columns=....) is deprecated, use sort_values(by=.....)\n",
      "C:\\Anaconda\\lib\\site-packages\\ipykernel\\__main__.py:14: SettingWithCopyWarning: \n",
      "A value is trying to be set on a copy of a slice from a DataFrame\n",
      "\n",
      "See the caveats in the documentation: http://pandas.pydata.org/pandas-docs/stable/indexing.html#indexing-view-versus-copy\n"
     ]
    }
   ],
   "source": [
    "daily_price=[]\n",
    "return_data=copy.deepcopy(data)\n",
    "for i,j in return_data.groupby('Date'):\n",
    "    j=j.sort(['time'])\n",
    "    j_1=j.head(5)\n",
    "    p=np.dot(j_1['close'],j_1['volume'].T)/np.sum(j_1['volume'])\n",
    "    temp=[i,p]\n",
    "    daily_price.append(temp)\n",
    "daily_P=pd.DataFrame(daily_price)\n",
    "\n",
    "daily_P=daily_P.rename(columns={0:'Date',1:'Price'})\n",
    "\n",
    "daily_P['Return']=np.nan\n",
    "daily_P['Return'][1:]=np.diff(np.log(daily_P['Price']))"
   ]
  },
  {
   "cell_type": "code",
   "execution_count": 282,
   "metadata": {
    "collapsed": false
   },
   "outputs": [],
   "source": [
    "daily_P.index=[daily_P['Date']]"
   ]
  },
  {
   "cell_type": "code",
   "execution_count": 283,
   "metadata": {
    "collapsed": true
   },
   "outputs": [],
   "source": [
    "daily_P=daily_P.drop('Date',axis=1)"
   ]
  },
  {
   "cell_type": "code",
   "execution_count": 284,
   "metadata": {
    "collapsed": false,
    "scrolled": true
   },
   "outputs": [],
   "source": [
    "daily_P=daily_P.dropna(axis=0)"
   ]
  },
  {
   "cell_type": "code",
   "execution_count": 285,
   "metadata": {
    "collapsed": false
   },
   "outputs": [],
   "source": [
    "daily_P=pd.concat([daily_P,Ni_sum_data_filtered],axis=1,join='inner')"
   ]
  },
  {
   "cell_type": "code",
   "execution_count": 286,
   "metadata": {
    "collapsed": false,
    "scrolled": true
   },
   "outputs": [],
   "source": [
    "daily_P['result']=daily_P['Return']*daily_P['signal']"
   ]
  },
  {
   "cell_type": "code",
   "execution_count": 287,
   "metadata": {
    "collapsed": false
   },
   "outputs": [
    {
     "data": {
      "text/plain": [
       "-0.02652533905783727"
      ]
     },
     "execution_count": 287,
     "metadata": {},
     "output_type": "execute_result"
    }
   ],
   "source": [
    "daily_P['result'].sum()"
   ]
  },
  {
   "cell_type": "code",
   "execution_count": 288,
   "metadata": {
    "collapsed": false,
    "scrolled": false
   },
   "outputs": [
    {
     "data": {
      "image/png": "[encoded data removed]",
      "text/plain": [
       "<matplotlib.figure.Figure at 0x20e7fcc0>"
      ]
     },
     "metadata": {},
     "output_type": "display_data"
    }
   ],
   "source": [
    "plt.figure(figsize=(15,10))\n",
    "plt.subplot(2,1,1)\n",
    "plt.plot(daily_P['result']);\n",
    "plt.plot(daily_P.index,np.zeros(len(daily_P)),'r--',)\n",
    "plt.plot(daily_P['Return'],'go');\n",
    "#plt.plot(daily_P.index,np.zeros(len(daily_P)),'r--',)\n",
    "plt.subplot(2,1,2)\n",
    "plt.bar(np.arange(len(daily_P)),daily_P['signal']);"
   ]
  },
  {
   "cell_type": "code",
   "execution_count": 289,
   "metadata": {
    "collapsed": false,
    "scrolled": true
   },
   "outputs": [],
   "source": [
    "daily_P['accu_rate']=daily_P['Return']*daily_P['signal']"
   ]
  },
  {
   "cell_type": "code",
   "execution_count": 290,
   "metadata": {
    "collapsed": false,
    "scrolled": true
   },
   "outputs": [],
   "source": [
    "daily_P['accu_rate']=daily_P['accu_rate'].apply(lambda x: 1 if x>0 else 0)"
   ]
  },
  {
   "cell_type": "code",
   "execution_count": 291,
   "metadata": {
    "collapsed": false
   },
   "outputs": [
    {
     "data": {
      "text/plain": [
       "0.5238095238095238"
      ]
     },
     "execution_count": 291,
     "metadata": {},
     "output_type": "execute_result"
    }
   ],
   "source": [
    "daily_P['accu_rate'].sum()/float(len(daily_P))"
   ]
  },
  {
   "cell_type": "code",
   "execution_count": 292,
   "metadata": {
    "collapsed": false
   },
   "outputs": [
    {
     "name": "stdout",
     "output_type": "stream",
     "text": [
      "Welcome to use Wind Quant API for Python (WindPy)!\n",
      "You can use w.menu to help yourself to create commands(WSD,WSS,WST,WSI,WSQ,...)!\n",
      "\n",
      "COPYRIGHT (C) 2016 WIND HONGHUI INFORMATION & TECHKNOLEWDGE CO., LTD. ALL RIGHTS RESERVED.\n",
      "IN NO CIRCUMSTANCE SHALL WIND BE RESPONSIBLE FOR ANY DAMAGES OR LOSSES CAUSED BY USING WIND QUANT API FOR Python.\n"
     ]
    },
    {
     "name": "stderr",
     "output_type": "stream",
     "text": [
      "C:\\Anaconda\\lib\\site-packages\\ipykernel\\__main__.py:12: FutureWarning: sort(columns=....) is deprecated, use sort_values(by=.....)\n"
     ]
    }
   ],
   "source": [
    "w.start()\n",
    "a=w.wsd(\"NI1701.SHF\", \"open,high,low,close\", \"2016-01-01\", \"2016-10-23\", \"\")\n",
    "data=pd.DataFrame()\n",
    "data['time']=a.Times\n",
    "for i in range(len(a.Fields)):\n",
    "\n",
    "    data[a.Fields[i]]=a.Data[i]\n",
    "w.stop()\n",
    "data['time']=pd.to_datetime(data['time'])\n",
    "\n",
    "data['Date']=data['time'].apply(lambda x:str(x.date()) if x.hour<=17 else np.nan)\n",
    "data=data.sort(['time'])\n",
    "data['Date']=data['Date'].fillna(method='bfill')\n",
    "data['Date']=pd.to_datetime(data['Date'])\n",
    "data=data.dropna(subset=['Date','OPEN','HIGH','LOW','CLOSE'])"
   ]
  },
  {
   "cell_type": "code",
   "execution_count": 293,
   "metadata": {
    "collapsed": false,
    "scrolled": true
   },
   "outputs": [],
   "source": [
    "data.index=[data['Date']]"
   ]
  },
  {
   "cell_type": "code",
   "execution_count": 294,
   "metadata": {
    "collapsed": false,
    "scrolled": true
   },
   "outputs": [],
   "source": [
    "daily_P=daily_P.reset_index()\n",
    "daily_P=daily_P.rename(columns={'index':'Date'})"
   ]
  },
  {
   "cell_type": "code",
   "execution_count": 297,
   "metadata": {
    "collapsed": false,
    "scrolled": true
   },
   "outputs": [],
   "source": [
    "daily_P.index=daily_P['Date']"
   ]
  },
  {
   "cell_type": "code",
   "execution_count": 299,
   "metadata": {
    "collapsed": false,
    "scrolled": true
   },
   "outputs": [],
   "source": [
    "final=pd.concat([daily_P,data],axis=1,join='outer')"
   ]
  },
  {
   "cell_type": "code",
   "execution_count": 304,
   "metadata": {
    "collapsed": true
   },
   "outputs": [],
   "source": [
    "final=final.drop('Date',axis=1)"
   ]
  },
  {
   "cell_type": "code",
   "execution_count": 306,
   "metadata": {
    "collapsed": false
   },
   "outputs": [],
   "source": [
    "final=final.reset_index()"
   ]
  },
  {
   "cell_type": "code",
   "execution_count": 307,
   "metadata": {
    "collapsed": false,
    "scrolled": true
   },
   "outputs": [],
   "source": [
    "final.to_csv(\"daily_P.csv\",index=False)"
   ]
  }
 ],
 "metadata": {
  "kernelspec": {
   "display_name": "Python 2",
   "language": "python",
   "name": "python2"
  },
  "language_info": {
   "codemirror_mode": {
    "name": "ipython",
    "version": 2
   },
   "file_extension": ".py",
   "mimetype": "text/x-python",
   "name": "python",
   "nbconvert_exporter": "python",
   "pygments_lexer": "ipython2",
   "version": "2.7.11"
  }
 },
 "nbformat": 4,
 "nbformat_minor": 0
}
