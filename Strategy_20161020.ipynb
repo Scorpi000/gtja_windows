{
 "cells": [
  {
   "cell_type": "code",
   "execution_count": 1,
   "metadata": {
    "collapsed": true
   },
   "outputs": [],
   "source": [
    "#coding:utf-8\n",
    "import time\n",
    "import pandas as pd\n",
    "import os\n",
    "import csv\n",
    "import datetime\n",
    "from sqlalchemy import create_engine\n",
    "import numpy as np\n",
    "import pymysql\n",
    "from WindPy import *\n",
    "import copy"
   ]
  },
  {
   "cell_type": "code",
   "execution_count": 2,
   "metadata": {
    "collapsed": false
   },
   "outputs": [
    {
     "name": "stdout",
     "output_type": "stream",
     "text": [
      "Welcome to use Wind Quant API for Python (WindPy)!\n",
      "You can use w.menu to help yourself to create commands(WSD,WSS,WST,WSI,WSQ,...)!\n",
      "\n",
      "COPYRIGHT (C) 2016 WIND HONGHUI INFORMATION & TECHKNOLEWDGE CO., LTD. ALL RIGHTS RESERVED.\n",
      "IN NO CIRCUMSTANCE SHALL WIND BE RESPONSIBLE FOR ANY DAMAGES OR LOSSES CAUSED BY USING WIND QUANT API FOR Python.\n"
     ]
    },
    {
     "name": "stderr",
     "output_type": "stream",
     "text": [
      "C:\\Anaconda\\lib\\site-packages\\ipykernel\\__main__.py:12: FutureWarning: sort(columns=....) is deprecated, use sort_values(by=.....)\n"
     ]
    }
   ],
   "source": [
    "w.start()\n",
    "a=w.wsi(\"NI1701.SHF\", \"pct_chg,oi,open,volume,close\", \"2013-01-01 00:00:00\", \"2016-10-20 23:59:59\", \"\")\n",
    "data=pd.DataFrame()\n",
    "data['time']=a.Times\n",
    "for i in range(len(a.Fields)):\n",
    "\n",
    "    data[a.Fields[i]]=a.Data[i]\n",
    "w.stop()\n",
    "data['time']=pd.to_datetime(data['time'])\n",
    "\n",
    "data['Date']=data['time'].apply(lambda x:str(x.date()) if x.hour<=17 else np.nan)\n",
    "data=data.sort(['time'])\n",
    "data['Date']=data['Date'].fillna(method='bfill')\n",
    "data['Date']=pd.to_datetime(data['Date'])\n",
    "data=data.dropna(subset=['Date','position','open','volume','close'])"
   ]
  },
  {
   "cell_type": "code",
   "execution_count": 3,
   "metadata": {
    "collapsed": false,
    "scrolled": true
   },
   "outputs": [
    {
     "name": "stderr",
     "output_type": "stream",
     "text": [
      "C:\\Anaconda\\lib\\site-packages\\ipykernel\\__main__.py:7: FutureWarning: sort(columns=....) is deprecated, use sort_values(by=.....)\n"
     ]
    }
   ],
   "source": [
    "\n",
    "\n",
    "P=np.abs(data['pctchange'])/np.sqrt(data['volume'])\n",
    "P_data=copy.deepcopy(data)\n",
    "P_data['P']=P\n",
    "\n",
    "P_data_sorted=P_data.sort(['P'],ascending=False)\n",
    "\n",
    "P_amt_daily=P_data_sorted['volume'].sum()\n",
    "\n",
    "\n",
    "\n",
    "P_total=pd.DataFrame()\n",
    "for i, j in P_data_sorted.groupby('Date'):\n",
    "    sum_vol=0\n",
    "    all_vol=j['volume'].sum()\n",
    "    target_vol=0.1*all_vol\n",
    "    k=0\n",
    "    while sum_vol<target_vol:\n",
    "        \n",
    "        sum_vol+=j.iloc[k,:]['volume']\n",
    "        k+=1\n",
    "    j_selected=j.iloc[:k,:]\n",
    "    P_total=P_total.append(j_selected)\n",
    "\n",
    "P_star=P_total.groupby(\"Date\").pctchange.sum()\n",
    "P_star=pd.DataFrame(P_star)\n",
    "P_star=P_star.rename(columns={'pctchange':'P'})"
   ]
  },
  {
   "cell_type": "code",
   "execution_count": 4,
   "metadata": {
    "collapsed": false
   },
   "outputs": [
    {
     "name": "stderr",
     "output_type": "stream",
     "text": [
      "C:\\Anaconda\\lib\\site-packages\\ipykernel\\__main__.py:5: FutureWarning: sort(columns=....) is deprecated, use sort_values(by=.....)\n"
     ]
    }
   ],
   "source": [
    "Q=np.abs(np.diff(data['position']))/np.sqrt(data['volume'])[1:]\n",
    "Q_data=copy.deepcopy(data)\n",
    "Q_data['Q']=Q\n",
    "\n",
    "Q_data_sorted=Q_data.sort(['Q'],ascending=False)\n",
    "\n",
    "Q_amt_daily=Q_data_sorted['volume'].sum()\n",
    "\n",
    "\n",
    "\n",
    "Q_total=pd.DataFrame()\n",
    "for i, j in Q_data_sorted.groupby('Date'):\n",
    "    sum_vol=0\n",
    "    all_vol=j['volume'].sum()\n",
    "    target_vol=0.1*all_vol\n",
    "    k=0\n",
    "    while sum_vol<target_vol:\n",
    "        \n",
    "        sum_vol+=j.iloc[k,:]['volume']\n",
    "        k+=1\n",
    "    j_selected=j.iloc[:k,:]\n",
    "    Q_total=Q_total.append(j_selected)\n",
    "\n",
    "Q_star=Q_total.groupby(\"Date\").pctchange.sum()\n",
    "Q_star=pd.DataFrame(Q_star)\n",
    "Q_star=Q_star.rename(columns={'pctchange':'Q'})"
   ]
  },
  {
   "cell_type": "code",
   "execution_count": 16,
   "metadata": {
    "collapsed": true
   },
   "outputs": [],
   "source": [
    "Indicator_total=pd.concat([P_star,Q_star],axis=1)"
   ]
  },
  {
   "cell_type": "code",
   "execution_count": 17,
   "metadata": {
    "collapsed": false,
    "scrolled": true
   },
   "outputs": [
    {
     "name": "stderr",
     "output_type": "stream",
     "text": [
      "C:\\Anaconda\\lib\\site-packages\\ipykernel\\__main__.py:1: FutureWarning: pd.rolling_mean is deprecated for Series and will be removed in a future version, replace with \n",
      "\tSeries.rolling(window=4,center=False).mean()\n",
      "  if __name__ == '__main__':\n",
      "C:\\Anaconda\\lib\\site-packages\\ipykernel\\__main__.py:2: FutureWarning: pd.rolling_mean is deprecated for Series and will be removed in a future version, replace with \n",
      "\tSeries.rolling(window=5,center=False).mean()\n",
      "  from ipykernel import kernelapp as app\n"
     ]
    }
   ],
   "source": [
    "Indicator_total['P_MA4']=pd.rolling_mean(Indicator_total['P'],4)\n",
    "Indicator_total['Q_MA5']=pd.rolling_mean(Indicator_total['Q'],5)"
   ]
  },
  {
   "cell_type": "code",
   "execution_count": 18,
   "metadata": {
    "collapsed": false
   },
   "outputs": [],
   "source": [
    "Indicator_total['P_star']=Indicator_total['P']-Indicator_total['P_MA4']\n",
    "Indicator_total['Q_star']=Indicator_total['Q']-Indicator_total['Q_MA5']"
   ]
  },
  {
   "cell_type": "code",
   "execution_count": 19,
   "metadata": {
    "collapsed": false,
    "scrolled": true
   },
   "outputs": [],
   "source": [
    "Indicator_total['Prod']=Indicator_total['P_star']*Indicator_total['Q_star']"
   ]
  },
  {
   "cell_type": "code",
   "execution_count": 20,
   "metadata": {
    "collapsed": false,
    "scrolled": true
   },
   "outputs": [],
   "source": [
    "Indicator_total=Indicator_total.dropna(subset=['Prod'])"
   ]
  },
  {
   "cell_type": "code",
   "execution_count": 21,
   "metadata": {
    "collapsed": false
   },
   "outputs": [],
   "source": [
    "Indicator_total['Decision']=Indicator_total['Prod'].apply(lambda x: 1 if x>0 else -1)"
   ]
  },
  {
   "cell_type": "code",
   "execution_count": 22,
   "metadata": {
    "collapsed": false,
    "scrolled": true
   },
   "outputs": [],
   "source": [
    "Indicator_total=Indicator_total.reset_index()"
   ]
  },
  {
   "cell_type": "code",
   "execution_count": 24,
   "metadata": {
    "collapsed": false
   },
   "outputs": [],
   "source": [
    "Indicator_total['Date']=Indicator_total['Date']+np.timedelta64(1,'D')"
   ]
  },
  {
   "cell_type": "code",
   "execution_count": 26,
   "metadata": {
    "collapsed": false
   },
   "outputs": [],
   "source": [
    "Indicator_total.index=[Indicator_total['Date']]\n",
    "Indicator_total=Indicator_total.drop('Date',axis=1)"
   ]
  },
  {
   "cell_type": "code",
   "execution_count": 226,
   "metadata": {
    "collapsed": true
   },
   "outputs": [],
   "source": [
    "#回测计算"
   ]
  },
  {
   "cell_type": "code",
   "execution_count": 27,
   "metadata": {
    "collapsed": false,
    "scrolled": true
   },
   "outputs": [
    {
     "name": "stderr",
     "output_type": "stream",
     "text": [
      "C:\\Anaconda\\lib\\site-packages\\ipykernel\\__main__.py:4: FutureWarning: sort(columns=....) is deprecated, use sort_values(by=.....)\n"
     ]
    }
   ],
   "source": [
    "daily_price=[]\n",
    "return_data=copy.deepcopy(data)\n",
    "for i,j in return_data.groupby('Date'):\n",
    "    j=j.sort(['time'])\n",
    "    j_1=j.head(5)\n",
    "    p=np.dot(j_1['close'],j_1['volume'].T)/np.sum(j_1['volume'])\n",
    "    temp=[i,p]\n",
    "    daily_price.append(temp)\n",
    "daily_P=pd.DataFrame(daily_price)\n"
   ]
  },
  {
   "cell_type": "code",
   "execution_count": 28,
   "metadata": {
    "collapsed": false,
    "scrolled": true
   },
   "outputs": [],
   "source": [
    "daily_P=daily_P.rename(columns={0:'Date',1:'Price'})"
   ]
  },
  {
   "cell_type": "code",
   "execution_count": 29,
   "metadata": {
    "collapsed": false
   },
   "outputs": [
    {
     "name": "stderr",
     "output_type": "stream",
     "text": [
      "C:\\Anaconda\\lib\\site-packages\\ipykernel\\__main__.py:2: SettingWithCopyWarning: \n",
      "A value is trying to be set on a copy of a slice from a DataFrame\n",
      "\n",
      "See the caveats in the documentation: http://pandas.pydata.org/pandas-docs/stable/indexing.html#indexing-view-versus-copy\n",
      "  from ipykernel import kernelapp as app\n"
     ]
    }
   ],
   "source": [
    "daily_P['Return']=np.nan\n",
    "daily_P['Return'][1:]=np.diff(np.log(daily_P['Price']))"
   ]
  },
  {
   "cell_type": "code",
   "execution_count": 30,
   "metadata": {
    "collapsed": false,
    "scrolled": true
   },
   "outputs": [],
   "source": [
    "daily_P.index=[daily_P['Date']]"
   ]
  },
  {
   "cell_type": "code",
   "execution_count": 31,
   "metadata": {
    "collapsed": false
   },
   "outputs": [],
   "source": [
    "daily_P=daily_P.drop('Date',axis=1)"
   ]
  },
  {
   "cell_type": "code",
   "execution_count": 32,
   "metadata": {
    "collapsed": false
   },
   "outputs": [],
   "source": [
    "result=pd.concat([daily_P,Indicator_total],join='inner',axis=1)"
   ]
  },
  {
   "cell_type": "code",
   "execution_count": 33,
   "metadata": {
    "collapsed": false
   },
   "outputs": [],
   "source": [
    "result['Final_Return']=result['Return']*result['Decision']"
   ]
  },
  {
   "cell_type": "code",
   "execution_count": 35,
   "metadata": {
    "collapsed": true
   },
   "outputs": [],
   "source": [
    "lin=result['Final_Return'].dropna()"
   ]
  },
  {
   "cell_type": "code",
   "execution_count": 36,
   "metadata": {
    "collapsed": true
   },
   "outputs": [],
   "source": [
    "import matplotlib.pyplot as plt\n",
    "%matplotlib inline"
   ]
  },
  {
   "cell_type": "code",
   "execution_count": 37,
   "metadata": {
    "collapsed": false
   },
   "outputs": [
    {
     "data": {
      "text/plain": [
       "[<matplotlib.lines.Line2D at 0x13a8e7f0>]"
      ]
     },
     "execution_count": 37,
     "metadata": {},
     "output_type": "execute_result"
    },
    {
     "data": {
      "image/png": "[encoded data removed]",
      "text/plain": [
       "<matplotlib.figure.Figure at 0x13a0be10>"
      ]
     },
     "metadata": {},
     "output_type": "display_data"
    }
   ],
   "source": [
    "plt.plot(lin)"
   ]
  },
  {
   "cell_type": "code",
   "execution_count": 38,
   "metadata": {
    "collapsed": false
   },
   "outputs": [
    {
     "data": {
      "text/plain": [
       "-0.16679095984482473"
      ]
     },
     "execution_count": 38,
     "metadata": {},
     "output_type": "execute_result"
    }
   ],
   "source": [
    "np.sum(lin)"
   ]
  },
  {
   "cell_type": "code",
   "execution_count": 39,
   "metadata": {
    "collapsed": true
   },
   "outputs": [],
   "source": [
    "result=result.reset_index()"
   ]
  },
  {
   "cell_type": "code",
   "execution_count": 40,
   "metadata": {
    "collapsed": false
   },
   "outputs": [],
   "source": [
    "result_2=result[result['Date']>=pd.to_datetime('2016-05-01')]\n",
    "result_2.index=[result_2['Date']]"
   ]
  },
  {
   "cell_type": "code",
   "execution_count": 41,
   "metadata": {
    "collapsed": false
   },
   "outputs": [
    {
     "data": {
      "text/plain": [
       "-0.20281470916214595"
      ]
     },
     "execution_count": 41,
     "metadata": {},
     "output_type": "execute_result"
    }
   ],
   "source": [
    "result_2['Final_Return'].sum()"
   ]
  },
  {
   "cell_type": "code",
   "execution_count": 42,
   "metadata": {
    "collapsed": true
   },
   "outputs": [],
   "source": [
    "lin=result_2['Final_Return'].dropna()"
   ]
  },
  {
   "cell_type": "code",
   "execution_count": 43,
   "metadata": {
    "collapsed": false
   },
   "outputs": [
    {
     "data": {
      "text/plain": [
       "<Container object of 110 artists>"
      ]
     },
     "execution_count": 43,
     "metadata": {},
     "output_type": "execute_result"
    },
    {
     "data": {
      "image/png": "[encoded data removed]",
      "text/plain": [
       "<matplotlib.figure.Figure at 0x13b22278>"
      ]
     },
     "metadata": {},
     "output_type": "display_data"
    }
   ],
   "source": [
    "plt.figure(figsize=(15,10))\n",
    "fig=plt.subplot(3,1,1)\n",
    "plt.plot(result_2['Final_Return'])\n",
    "fig=plt.subplot(3,1,2)\n",
    "plt.plot(result_2['Price'])\n",
    "fig=plt.subplot(3,1,3)\n",
    "plt.bar(np.arange(len(result_2))+1,result_2['Decision'])"
   ]
  },
  {
   "cell_type": "code",
   "execution_count": 44,
   "metadata": {
    "collapsed": false
   },
   "outputs": [
    {
     "data": {
      "text/plain": [
       "-0.20281470916214595"
      ]
     },
     "execution_count": 44,
     "metadata": {},
     "output_type": "execute_result"
    }
   ],
   "source": [
    "np.sum(result_2['Final_Return'])"
   ]
  },
  {
   "cell_type": "code",
   "execution_count": 46,
   "metadata": {
    "collapsed": false
   },
   "outputs": [
    {
     "name": "stderr",
     "output_type": "stream",
     "text": [
      "C:\\Anaconda\\lib\\site-packages\\ipykernel\\__main__.py:1: SettingWithCopyWarning: \n",
      "A value is trying to be set on a copy of a slice from a DataFrame.\n",
      "Try using .loc[row_indexer,col_indexer] = value instead\n",
      "\n",
      "See the caveats in the documentation: http://pandas.pydata.org/pandas-docs/stable/indexing.html#indexing-view-versus-copy\n",
      "  if __name__ == '__main__':\n"
     ]
    }
   ],
   "source": [
    "result_2['accu_rate']=result_2['Return']*result_2['Decision']"
   ]
  },
  {
   "cell_type": "code",
   "execution_count": 48,
   "metadata": {
    "collapsed": false
   },
   "outputs": [
    {
     "name": "stderr",
     "output_type": "stream",
     "text": [
      "C:\\Anaconda\\lib\\site-packages\\ipykernel\\__main__.py:1: SettingWithCopyWarning: \n",
      "A value is trying to be set on a copy of a slice from a DataFrame.\n",
      "Try using .loc[row_indexer,col_indexer] = value instead\n",
      "\n",
      "See the caveats in the documentation: http://pandas.pydata.org/pandas-docs/stable/indexing.html#indexing-view-versus-copy\n",
      "  if __name__ == '__main__':\n"
     ]
    }
   ],
   "source": [
    "result_2['accu_rate']=result_2['accu_rate'].apply(lambda x:1 if x>0 else 0)"
   ]
  },
  {
   "cell_type": "code",
   "execution_count": 49,
   "metadata": {
    "collapsed": false
   },
   "outputs": [
    {
     "data": {
      "text/plain": [
       "0.45454545454545453"
      ]
     },
     "execution_count": 49,
     "metadata": {},
     "output_type": "execute_result"
    }
   ],
   "source": [
    "np.float(np.sum(result_2['accu_rate']))/len(result_2)"
   ]
  },
  {
   "cell_type": "code",
   "execution_count": null,
   "metadata": {
    "collapsed": true
   },
   "outputs": [],
   "source": []
  }
 ],
 "metadata": {
  "kernelspec": {
   "display_name": "Python 2",
   "language": "python",
   "name": "python2"
  },
  "language_info": {
   "codemirror_mode": {
    "name": "ipython",
    "version": 2
   },
   "file_extension": ".py",
   "mimetype": "text/x-python",
   "name": "python",
   "nbconvert_exporter": "python",
   "pygments_lexer": "ipython2",
   "version": "2.7.11"
  }
 },
 "nbformat": 4,
 "nbformat_minor": 0
}
