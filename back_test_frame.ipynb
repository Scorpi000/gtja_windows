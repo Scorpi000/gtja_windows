{
 "cells": [
  {
   "cell_type": "code",
   "execution_count": 1,
   "metadata": {
    "collapsed": true
   },
   "outputs": [],
   "source": [
    "import numpy as np\n",
    "import pandas as pd"
   ]
  },
  {
   "cell_type": "code",
   "execution_count": 2,
   "metadata": {
    "collapsed": true
   },
   "outputs": [],
   "source": [
    "class back_test(object):\n",
    "    def __init__(self,o_y,h_y,l_y,c_y,o,h,l,c,t,freq):\n",
    "        self.open_price_yes=o_y\n",
    "        self.high_price_yes=h_y\n",
    "        self.low_price_yes=l_y\n",
    "        self.close_price_yes=l_y\n",
    "        self.open_price=o\n",
    "        self.high_price=h\n",
    "        self.low_price=l\n",
    "        self.close_price=c\n",
    "        self.time=t\n",
    "        self.freq=freq\n",
    "        self.sig=0\n",
    "        \n",
    "    def rbbreak_threshold(self):\n",
    "        self.s_setup=self.high_price_yes+0.35*(self.close_price_yes-self.low_price_yes)\n",
    "        self.b_setup=self.low_price_yes-0.35*(self.high_price_yes-self.close_price_yes)\n",
    "        self.senter=1.07/2*(self.high_price_yes+self.low_price_yes)-0.07*self.low_price_yes\n",
    "        self.benter=1.07/2*(self.high_price_yes+self.low_price_yes)-0.07*self.high_price_yes\n",
    "        self.b_break=self.s_setup+0.25*(self.s_setup-self.b_setup)\n",
    "        self.s_break=self.b_setup-0.25*(self.s_setup-self.b_setup)\n",
    "    \n",
    "    def dual_thrust(self):\n",
    "        \n",
    "\n",
    "    def print_result(self):\n",
    "        self.rbbreak_threshold()\n",
    "        print self.s_setup,self.b_setup,self.senter,self.benter,self.b_break,self.s_break\n",
    "        \n",
    "    def resample(self):\n",
    "        \n",
    "        "
   ]
  },
  {
   "cell_type": "code",
   "execution_count": 3,
   "metadata": {
    "collapsed": false
   },
   "outputs": [],
   "source": [
    "s=back_test(100,140.5,70.5,90,120,130,125,127)"
   ]
  },
  {
   "cell_type": "code",
   "execution_count": 4,
   "metadata": {
    "collapsed": false
   },
   "outputs": [
    {
     "name": "stdout",
     "output_type": "stream",
     "text": [
      "140.5 46.0 107.95 103.05 164.125 22.375\n"
     ]
    }
   ],
   "source": [
    "s.print_result()"
   ]
  }
 ],
 "metadata": {
  "kernelspec": {
   "display_name": "Python [Root]",
   "language": "python",
   "name": "Python [Root]"
  },
  "language_info": {
   "codemirror_mode": {
    "name": "ipython",
    "version": 2
   },
   "file_extension": ".py",
   "mimetype": "text/x-python",
   "name": "python",
   "nbconvert_exporter": "python",
   "pygments_lexer": "ipython2",
   "version": "2.7.13"
  }
 },
 "nbformat": 4,
 "nbformat_minor": 0
}
